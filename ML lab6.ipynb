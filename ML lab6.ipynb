{
 "cells": [
  {
   "cell_type": "code",
   "execution_count": 2,
   "id": "6f8643ea-450e-4f2c-957c-1ca84b071a53",
   "metadata": {},
   "outputs": [
    {
     "name": "stdout",
     "output_type": "stream",
     "text": [
      "       label  pixel0  pixel1  pixel2  pixel3  pixel4  pixel5  pixel6  pixel7  \\\n",
      "0          1       0       0       0       0       0       0       0       0   \n",
      "1          0       0       0       0       0       0       0       0       0   \n",
      "2          1       0       0       0       0       0       0       0       0   \n",
      "3          4       0       0       0       0       0       0       0       0   \n",
      "4          0       0       0       0       0       0       0       0       0   \n",
      "...      ...     ...     ...     ...     ...     ...     ...     ...     ...   \n",
      "41995      0       0       0       0       0       0       0       0       0   \n",
      "41996      1       0       0       0       0       0       0       0       0   \n",
      "41997      7       0       0       0       0       0       0       0       0   \n",
      "41998      6       0       0       0       0       0       0       0       0   \n",
      "41999      9       0       0       0       0       0       0       0       0   \n",
      "\n",
      "       pixel8  ...  pixel774  pixel775  pixel776  pixel777  pixel778  \\\n",
      "0           0  ...         0         0         0         0         0   \n",
      "1           0  ...         0         0         0         0         0   \n",
      "2           0  ...         0         0         0         0         0   \n",
      "3           0  ...         0         0         0         0         0   \n",
      "4           0  ...         0         0         0         0         0   \n",
      "...       ...  ...       ...       ...       ...       ...       ...   \n",
      "41995       0  ...         0         0         0         0         0   \n",
      "41996       0  ...         0         0         0         0         0   \n",
      "41997       0  ...         0         0         0         0         0   \n",
      "41998       0  ...         0         0         0         0         0   \n",
      "41999       0  ...         0         0         0         0         0   \n",
      "\n",
      "       pixel779  pixel780  pixel781  pixel782  pixel783  \n",
      "0             0         0         0         0         0  \n",
      "1             0         0         0         0         0  \n",
      "2             0         0         0         0         0  \n",
      "3             0         0         0         0         0  \n",
      "4             0         0         0         0         0  \n",
      "...         ...       ...       ...       ...       ...  \n",
      "41995         0         0         0         0         0  \n",
      "41996         0         0         0         0         0  \n",
      "41997         0         0         0         0         0  \n",
      "41998         0         0         0         0         0  \n",
      "41999         0         0         0         0         0  \n",
      "\n",
      "[42000 rows x 785 columns]\n"
     ]
    }
   ],
   "source": [
    "import pandas as pd\n",
    "import numpy as np\n",
    "import matplotlib as plt\n",
    "df=pd.read_csv(\"Downloads/Week7_train.csv\")\n",
    "\n",
    "print(df)"
   ]
  },
  {
   "cell_type": "code",
   "execution_count": 3,
   "id": "e68744fb-36ed-45e8-a758-a2b5489419c1",
   "metadata": {},
   "outputs": [
    {
     "data": {
      "text/plain": [
       "<bound method DataFrame.info of        label  pixel0  pixel1  pixel2  pixel3  pixel4  pixel5  pixel6  pixel7  \\\n",
       "0          1       0       0       0       0       0       0       0       0   \n",
       "1          0       0       0       0       0       0       0       0       0   \n",
       "2          1       0       0       0       0       0       0       0       0   \n",
       "3          4       0       0       0       0       0       0       0       0   \n",
       "4          0       0       0       0       0       0       0       0       0   \n",
       "...      ...     ...     ...     ...     ...     ...     ...     ...     ...   \n",
       "41995      0       0       0       0       0       0       0       0       0   \n",
       "41996      1       0       0       0       0       0       0       0       0   \n",
       "41997      7       0       0       0       0       0       0       0       0   \n",
       "41998      6       0       0       0       0       0       0       0       0   \n",
       "41999      9       0       0       0       0       0       0       0       0   \n",
       "\n",
       "       pixel8  ...  pixel774  pixel775  pixel776  pixel777  pixel778  \\\n",
       "0           0  ...         0         0         0         0         0   \n",
       "1           0  ...         0         0         0         0         0   \n",
       "2           0  ...         0         0         0         0         0   \n",
       "3           0  ...         0         0         0         0         0   \n",
       "4           0  ...         0         0         0         0         0   \n",
       "...       ...  ...       ...       ...       ...       ...       ...   \n",
       "41995       0  ...         0         0         0         0         0   \n",
       "41996       0  ...         0         0         0         0         0   \n",
       "41997       0  ...         0         0         0         0         0   \n",
       "41998       0  ...         0         0         0         0         0   \n",
       "41999       0  ...         0         0         0         0         0   \n",
       "\n",
       "       pixel779  pixel780  pixel781  pixel782  pixel783  \n",
       "0             0         0         0         0         0  \n",
       "1             0         0         0         0         0  \n",
       "2             0         0         0         0         0  \n",
       "3             0         0         0         0         0  \n",
       "4             0         0         0         0         0  \n",
       "...         ...       ...       ...       ...       ...  \n",
       "41995         0         0         0         0         0  \n",
       "41996         0         0         0         0         0  \n",
       "41997         0         0         0         0         0  \n",
       "41998         0         0         0         0         0  \n",
       "41999         0         0         0         0         0  \n",
       "\n",
       "[42000 rows x 785 columns]>"
      ]
     },
     "execution_count": 3,
     "metadata": {},
     "output_type": "execute_result"
    }
   ],
   "source": [
    "df.shape\n",
    "df.info\n"
   ]
  },
  {
   "cell_type": "code",
   "execution_count": 4,
   "id": "28e3d816-9528-4af9-a435-a6ca3cf75d5b",
   "metadata": {},
   "outputs": [
    {
     "data": {
      "text/plain": [
       "label       1\n",
       "pixel0      0\n",
       "pixel1      0\n",
       "pixel2      0\n",
       "pixel3      0\n",
       "           ..\n",
       "pixel779    0\n",
       "pixel780    0\n",
       "pixel781    0\n",
       "pixel782    0\n",
       "pixel783    0\n",
       "Name: 0, Length: 785, dtype: int64"
      ]
     },
     "execution_count": 4,
     "metadata": {},
     "output_type": "execute_result"
    }
   ],
   "source": [
    "df.iloc[0, :]"
   ]
  },
  {
   "cell_type": "code",
   "execution_count": 5,
   "id": "561e7f19-0f75-4b94-82a0-82bb21feb39f",
   "metadata": {},
   "outputs": [
    {
     "name": "stdout",
     "output_type": "stream",
     "text": [
      "1\n"
     ]
    },
    {
     "data": {
      "text/plain": [
       "1"
      ]
     },
     "execution_count": 5,
     "metadata": {},
     "output_type": "execute_result"
    }
   ],
   "source": [
    "y=df.iloc[0,0]\n",
    "x=df.iloc[0, 1:]\n",
    "print(y)\n",
    "y"
   ]
  },
  {
   "cell_type": "code",
   "execution_count": 6,
   "id": "64fa4aff-1373-4975-9646-25cb2e49ccd7",
   "metadata": {},
   "outputs": [
    {
     "name": "stdout",
     "output_type": "stream",
     "text": [
      "pixel0      0\n",
      "pixel1      0\n",
      "pixel2      0\n",
      "pixel3      0\n",
      "pixel4      0\n",
      "           ..\n",
      "pixel779    0\n",
      "pixel780    0\n",
      "pixel781    0\n",
      "pixel782    0\n",
      "pixel783    0\n",
      "Name: 0, Length: 784, dtype: int64\n"
     ]
    }
   ],
   "source": [
    "print(x)"
   ]
  },
  {
   "cell_type": "code",
   "execution_count": 7,
   "id": "520921a6-ec52-42d8-bbc1-5474fada85d3",
   "metadata": {},
   "outputs": [
    {
     "data": {
      "text/plain": [
       "array([  0,   0,   0,   0,   0,   0,   0,   0,   0,   0,   0,   0,   0,\n",
       "         0,   0,   0,   0,   0,   0,   0,   0,   0,   0,   0,   0,   0,\n",
       "         0,   0,   0,   0,   0,   0,   0,   0,   0,   0,   0,   0,   0,\n",
       "         0,   0,   0,   0,   0,   0,   0,   0,   0,   0,   0,   0,   0,\n",
       "         0,   0,   0,   0,   0,   0,   0,   0,   0,   0,   0,   0,   0,\n",
       "         0,   0,   0,   0,   0,   0,   0,   0,   0,   0,   0,   0,   0,\n",
       "         0,   0,   0,   0,   0,   0,   0,   0,   0,   0,   0,   0,   0,\n",
       "         0,   0,   0,   0,   0,   0,   0,   0,   0,   0,   0,   0,   0,\n",
       "         0,   0,   0,   0,   0,   0,   0,   0,   0,   0,   0,   0,   0,\n",
       "         0,   0,   0,   0,   0,   0,   0,   0,   0,   0,   0,   0,   0,\n",
       "         0,   0, 188, 255,  94,   0,   0,   0,   0,   0,   0,   0,   0,\n",
       "         0,   0,   0,   0,   0,   0,   0,   0,   0,   0,   0,   0,   0,\n",
       "         0,   0,   0, 191, 250, 253,  93,   0,   0,   0,   0,   0,   0,\n",
       "         0,   0,   0,   0,   0,   0,   0,   0,   0,   0,   0,   0,   0,\n",
       "         0,   0,   0,   0, 123, 248, 253, 167,  10,   0,   0,   0,   0,\n",
       "         0,   0,   0,   0,   0,   0,   0,   0,   0,   0,   0,   0,   0,\n",
       "         0,   0,   0,   0,   0,  80, 247, 253, 208,  13,   0,   0,   0,\n",
       "         0,   0,   0,   0,   0,   0,   0,   0,   0,   0,   0,   0,   0,\n",
       "         0,   0,   0,   0,   0,   0,  29, 207, 253, 235,  77,   0,   0,\n",
       "         0,   0,   0,   0,   0,   0,   0,   0,   0,   0,   0,   0,   0,\n",
       "         0,   0,   0,   0,   0,   0,   0,  54, 209, 253, 253,  88,   0,\n",
       "         0,   0,   0,   0,   0,   0,   0,   0,   0,   0,   0,   0,   0,\n",
       "         0,   0,   0,   0,   0,   0,   0,   0,  93, 254, 253, 238, 170,\n",
       "        17,   0,   0,   0,   0,   0,   0,   0,   0,   0,   0,   0,   0,\n",
       "         0,   0,   0,   0,   0,   0,   0,   0,   0,  23, 210, 254, 253,\n",
       "       159,   0,   0,   0,   0,   0,   0,   0,   0,   0,   0,   0,   0,\n",
       "         0,   0,   0,   0,   0,   0,   0,   0,   0,   0,  16, 209, 253,\n",
       "       254, 240,  81,   0,   0,   0,   0,   0,   0,   0,   0,   0,   0,\n",
       "         0,   0,   0,   0,   0,   0,   0,   0,   0,   0,   0,   0,  27,\n",
       "       253, 253, 254,  13,   0,   0,   0,   0,   0,   0,   0,   0,   0,\n",
       "         0,   0,   0,   0,   0,   0,   0,   0,   0,   0,   0,   0,   0,\n",
       "        20, 206, 254, 254, 198,   7,   0,   0,   0,   0,   0,   0,   0,\n",
       "         0,   0,   0,   0,   0,   0,   0,   0,   0,   0,   0,   0,   0,\n",
       "         0,   0, 168, 253, 253, 196,   7,   0,   0,   0,   0,   0,   0,\n",
       "         0,   0,   0,   0,   0,   0,   0,   0,   0,   0,   0,   0,   0,\n",
       "         0,   0,   0,  20, 203, 253, 248,  76,   0,   0,   0,   0,   0,\n",
       "         0,   0,   0,   0,   0,   0,   0,   0,   0,   0,   0,   0,   0,\n",
       "         0,   0,   0,   0,  22, 188, 253, 245,  93,   0,   0,   0,   0,\n",
       "         0,   0,   0,   0,   0,   0,   0,   0,   0,   0,   0,   0,   0,\n",
       "         0,   0,   0,   0,   0,   0, 103, 253, 253, 191,   0,   0,   0,\n",
       "         0,   0,   0,   0,   0,   0,   0,   0,   0,   0,   0,   0,   0,\n",
       "         0,   0,   0,   0,   0,   0,   0,  89, 240, 253, 195,  25,   0,\n",
       "         0,   0,   0,   0,   0,   0,   0,   0,   0,   0,   0,   0,   0,\n",
       "         0,   0,   0,   0,   0,   0,   0,   0,  15, 220, 253, 253,  80,\n",
       "         0,   0,   0,   0,   0,   0,   0,   0,   0,   0,   0,   0,   0,\n",
       "         0,   0,   0,   0,   0,   0,   0,   0,   0,   0,  94, 253, 253,\n",
       "       253,  94,   0,   0,   0,   0,   0,   0,   0,   0,   0,   0,   0,\n",
       "         0,   0,   0,   0,   0,   0,   0,   0,   0,   0,   0,   0,  89,\n",
       "       251, 253, 250, 131,   0,   0,   0,   0,   0,   0,   0,   0,   0,\n",
       "         0,   0,   0,   0,   0,   0,   0,   0,   0,   0,   0,   0,   0,\n",
       "         0,   0, 214, 218,  95,   0,   0,   0,   0,   0,   0,   0,   0,\n",
       "         0,   0,   0,   0,   0,   0,   0,   0,   0,   0,   0,   0,   0,\n",
       "         0,   0,   0,   0,   0,   0,   0,   0,   0,   0,   0,   0,   0,\n",
       "         0,   0,   0,   0,   0,   0,   0,   0,   0,   0,   0,   0,   0,\n",
       "         0,   0,   0,   0,   0,   0,   0,   0,   0,   0,   0,   0,   0,\n",
       "         0,   0,   0,   0,   0,   0,   0,   0,   0,   0,   0,   0,   0,\n",
       "         0,   0,   0,   0,   0,   0,   0,   0,   0,   0,   0,   0,   0,\n",
       "         0,   0,   0,   0,   0,   0,   0,   0,   0,   0,   0,   0,   0,\n",
       "         0,   0,   0,   0,   0,   0,   0,   0,   0,   0,   0,   0,   0,\n",
       "         0,   0,   0,   0,   0,   0,   0,   0,   0,   0,   0,   0,   0,\n",
       "         0,   0,   0,   0])"
      ]
     },
     "execution_count": 7,
     "metadata": {},
     "output_type": "execute_result"
    }
   ],
   "source": [
    "x.values"
   ]
  },
  {
   "cell_type": "code",
   "execution_count": 8,
   "id": "683f8b7d-2364-4a46-916a-4d31ad857fdf",
   "metadata": {},
   "outputs": [
    {
     "data": {
      "text/plain": [
       "<matplotlib.image.AxesImage at 0x7f9b5f424310>"
      ]
     },
     "execution_count": 8,
     "metadata": {},
     "output_type": "execute_result"
    },
    {
     "data": {
      "image/png": "[encoded data removed]",
      "text/plain": [
       "<Figure size 640x480 with 1 Axes>"
      ]
     },
     "metadata": {},
     "output_type": "display_data"
    }
   ],
   "source": [
    "import matplotlib.pyplot as plt\n",
    "plt.imshow(df.iloc[3, 1:].values.reshape(28,28),cmap='grey')"
   ]
  },
  {
   "cell_type": "code",
   "execution_count": 9,
   "id": "60227b8b-6187-4f4d-9d65-cfd5d445cf5a",
   "metadata": {},
   "outputs": [
    {
     "name": "stdout",
     "output_type": "stream",
     "text": [
      "Original dataset shape: (42000, 785)\n"
     ]
    }
   ],
   "source": [
    "4\n",
    "\n",
    "print(\"Original dataset shape:\", df.shape)\n",
    "\n",
    "# Select 10% of the data randomly\n",
    "df_sample = df.sample(frac=0.1, random_state=42)  # Use random_state for reproducibility\n",
    "\n",
    "# Print the shape of the selected dataset\n",
    "# Save the sampled dataset if needed\n",
    "df_sample.to_csv(\"experiment_sample.csv\", index=False)"
   ]
  },
  {
   "cell_type": "code",
   "execution_count": 10,
   "id": "d93f0da2-f275-44f0-acf0-16cc8ec38dbc",
   "metadata": {},
   "outputs": [
    {
     "name": "stdout",
     "output_type": "stream",
     "text": [
      "Selected dataset shape: (4200, 785)\n"
     ]
    }
   ],
   "source": [
    "print(\"Selected dataset shape:\", df_sample.shape)\n"
   ]
  },
  {
   "cell_type": "code",
   "execution_count": 11,
   "id": "c17c6676-28d2-4a7a-a00b-852acfc9ef4d",
   "metadata": {},
   "outputs": [
    {
     "name": "stdout",
     "output_type": "stream",
     "text": [
      "       label  pixel0  pixel1  pixel2  pixel3  pixel4  pixel5  pixel6  pixel7  \\\n",
      "5457       8       0       0       0       0       0       0       0       0   \n",
      "38509      1       0       0       0       0       0       0       0       0   \n",
      "25536      9       0       0       0       0       0       0       0       0   \n",
      "31803      9       0       0       0       0       0       0       0       0   \n",
      "39863      8       0       0       0       0       0       0       0       0   \n",
      "\n",
      "       pixel8  ...  pixel774  pixel775  pixel776  pixel777  pixel778  \\\n",
      "5457        0  ...         0         0         0         0         0   \n",
      "38509       0  ...         0         0         0         0         0   \n",
      "25536       0  ...         0         0         0         0         0   \n",
      "31803       0  ...         0         0         0         0         0   \n",
      "39863       0  ...         0         0         0         0         0   \n",
      "\n",
      "       pixel779  pixel780  pixel781  pixel782  pixel783  \n",
      "5457          0         0         0         0         0  \n",
      "38509         0         0         0         0         0  \n",
      "25536         0         0         0         0         0  \n",
      "31803         0         0         0         0         0  \n",
      "39863         0         0         0         0         0  \n",
      "\n",
      "[5 rows x 785 columns]\n"
     ]
    }
   ],
   "source": [
    "print(df_sample.head())"
   ]
  },
  {
   "cell_type": "code",
   "execution_count": 12,
   "id": "fe5180a7-3223-4d50-9cb5-ff08475a6354",
   "metadata": {},
   "outputs": [
    {
     "name": "stdout",
     "output_type": "stream",
     "text": [
      "unique class labels [8 1 9 6 2 7 3 4 5 0]\n",
      "no of unique class labels 10\n"
     ]
    }
   ],
   "source": [
    "uni=df_sample['label'].unique()\n",
    "num_uni=len(uni)\n",
    "print(\"unique class labels\",uni)\n",
    "print(\"no of unique class labels\",num_uni)"
   ]
  },
  {
   "cell_type": "code",
   "execution_count": 13,
   "id": "d44f8ca9-a564-4429-b005-f77b3cf3b400",
   "metadata": {},
   "outputs": [
    {
     "name": "stdout",
     "output_type": "stream",
     "text": [
      "label\n",
      "3    506\n",
      "1    471\n",
      "7    438\n",
      "2    420\n",
      "9    416\n",
      "0    408\n",
      "8    403\n",
      "6    402\n",
      "4    397\n",
      "5    339\n",
      "Name: count, dtype: int64\n"
     ]
    }
   ],
   "source": [
    "example=df_sample['label'].value_counts()\n",
    "print(example)"
   ]
  },
  {
   "cell_type": "code",
   "execution_count": 14,
   "id": "bfd0f50c-15a2-42f7-8d06-89b43c3be378",
   "metadata": {},
   "outputs": [
    {
     "name": "stdout",
     "output_type": "stream",
     "text": [
      "(4200, 784)\n",
      "(4200,)\n"
     ]
    }
   ],
   "source": [
    "y=df_sample['label']\n",
    "x=df_sample.drop(columns=['label'])\n",
    "print(x.shape)\n",
    "print(y.shape)"
   ]
  },
  {
   "cell_type": "code",
   "execution_count": 15,
   "id": "3c5bac1d-e12a-4dbc-ac38-1f7f07adf538",
   "metadata": {},
   "outputs": [
    {
     "data": {
      "image/png": "[encoded data removed]",
      "text/plain": [
       "<Figure size 640x480 with 1 Axes>"
      ]
     },
     "metadata": {},
     "output_type": "display_data"
    },
    {
     "data": {
      "image/png": "[encoded data removed]",
      "text/plain": [
       "<Figure size 640x480 with 1 Axes>"
      ]
     },
     "metadata": {},
     "output_type": "display_data"
    },
    {
     "data": {
      "image/png": "[encoded data removed]",
      "text/plain": [
       "<Figure size 640x480 with 1 Axes>"
      ]
     },
     "metadata": {},
     "output_type": "display_data"
    },
    {
     "data": {
      "image/png": "[encoded data removed]",
      "text/plain": [
       "<Figure size 640x480 with 1 Axes>"
      ]
     },
     "metadata": {},
     "output_type": "display_data"
    },
    {
     "data": {
      "image/png": "[encoded data removed]",
      "text/plain": [
       "<Figure size 640x480 with 1 Axes>"
      ]
     },
     "metadata": {},
     "output_type": "display_data"
    }
   ],
   "source": [
    "for i in range(5):\n",
    "    plt.imshow(df.iloc[i, 1:].values.reshape(28, 28), cmap='gray')  # Fix 'grey' to 'gray'\n",
    "    plt.title(f\"Label: {df.iloc[i, 0]}\")  # Assuming the first column (index 0) is the label\n",
    "    plt.axis(\"off\")  # Hide axes for better visualization\n",
    "    plt.show()  # Show each image separately"
   ]
  },
  {
   "cell_type": "code",
   "execution_count": 16,
   "id": "fa9c1f54-19e9-4fde-aaef-57c3eae8475a",
   "metadata": {},
   "outputs": [
    {
     "name": "stdout",
     "output_type": "stream",
     "text": [
      "       pixel0  pixel1  pixel2  pixel3  pixel4  pixel5  pixel6  pixel7  pixel8  \\\n",
      "11288       0       0       0       0       0       0       0       0       0   \n",
      "40859       0       0       0       0       0       0       0       0       0   \n",
      "15180       0       0       0       0       0       0       0       0       0   \n",
      "1599        0       0       0       0       0       0       0       0       0   \n",
      "35656       0       0       0       0       0       0       0       0       0   \n",
      "...       ...     ...     ...     ...     ...     ...     ...     ...     ...   \n",
      "41313       0       0       0       0       0       0       0       0       0   \n",
      "19327       0       0       0       0       0       0       0       0       0   \n",
      "22715       0       0       0       0       0       0       0       0       0   \n",
      "20318       0       0       0       0       0       0       0       0       0   \n",
      "36973       0       0       0       0       0       0       0       0       0   \n",
      "\n",
      "       pixel9  ...  pixel774  pixel775  pixel776  pixel777  pixel778  \\\n",
      "11288       0  ...         0         0         0         0         0   \n",
      "40859       0  ...         0         0         0         0         0   \n",
      "15180       0  ...         0         0         0         0         0   \n",
      "1599        0  ...         0         0         0         0         0   \n",
      "35656       0  ...         0         0         0         0         0   \n",
      "...       ...  ...       ...       ...       ...       ...       ...   \n",
      "41313       0  ...         0         0         0         0         0   \n",
      "19327       0  ...         0         0         0         0         0   \n",
      "22715       0  ...         0         0         0         0         0   \n",
      "20318       0  ...         0         0         0         0         0   \n",
      "36973       0  ...         0         0         0         0         0   \n",
      "\n",
      "       pixel779  pixel780  pixel781  pixel782  pixel783  \n",
      "11288         0         0         0         0         0  \n",
      "40859         0         0         0         0         0  \n",
      "15180         0         0         0         0         0  \n",
      "1599          0         0         0         0         0  \n",
      "35656         0         0         0         0         0  \n",
      "...         ...       ...       ...       ...       ...  \n",
      "41313         0         0         0         0         0  \n",
      "19327         0         0         0         0         0  \n",
      "22715         0         0         0         0         0  \n",
      "20318         0         0         0         0         0  \n",
      "36973         0         0         0         0         0  \n",
      "\n",
      "[3150 rows x 784 columns]        pixel0  pixel1  pixel2  pixel3  pixel4  pixel5  pixel6  pixel7  pixel8  \\\n",
      "15130       0       0       0       0       0       0       0       0       0   \n",
      "1992        0       0       0       0       0       0       0       0       0   \n",
      "11764       0       0       0       0       0       0       0       0       0   \n",
      "884         0       0       0       0       0       0       0       0       0   \n",
      "25410       0       0       0       0       0       0       0       0       0   \n",
      "...       ...     ...     ...     ...     ...     ...     ...     ...     ...   \n",
      "7515        0       0       0       0       0       0       0       0       0   \n",
      "6573        0       0       0       0       0       0       0       0       0   \n",
      "25283       0       0       0       0       0       0       0       0       0   \n",
      "8687        0       0       0       0       0       0       0       0       0   \n",
      "28612       0       0       0       0       0       0       0       0       0   \n",
      "\n",
      "       pixel9  ...  pixel774  pixel775  pixel776  pixel777  pixel778  \\\n",
      "15130       0  ...         0         0         0         0         0   \n",
      "1992        0  ...         0         0         0         0         0   \n",
      "11764       0  ...         0         0         0         0         0   \n",
      "884         0  ...         0         0         0         0         0   \n",
      "25410       0  ...         0         0         0         0         0   \n",
      "...       ...  ...       ...       ...       ...       ...       ...   \n",
      "7515        0  ...         0         0         0         0         0   \n",
      "6573        0  ...         0         0         0         0         0   \n",
      "25283       0  ...         0         0         0         0         0   \n",
      "8687        0  ...         0         0         0         0         0   \n",
      "28612       0  ...       117       253       130         0         0   \n",
      "\n",
      "       pixel779  pixel780  pixel781  pixel782  pixel783  \n",
      "15130         0         0         0         0         0  \n",
      "1992          0         0         0         0         0  \n",
      "11764         0         0         0         0         0  \n",
      "884           0         0         0         0         0  \n",
      "25410         0         0         0         0         0  \n",
      "...         ...       ...       ...       ...       ...  \n",
      "7515          0         0         0         0         0  \n",
      "6573          0         0         0         0         0  \n",
      "25283         0         0         0         0         0  \n",
      "8687          0         0         0         0         0  \n",
      "28612         0         0         0         0         0  \n",
      "\n",
      "[1050 rows x 784 columns]        label\n",
      "11288      9\n",
      "40859      4\n",
      "15180      4\n",
      "1599       9\n",
      "35656      7\n",
      "...      ...\n",
      "41313      8\n",
      "19327      4\n",
      "22715      3\n",
      "20318      3\n",
      "36973      1\n",
      "\n",
      "[3150 rows x 1 columns]        label\n",
      "15130      6\n",
      "1992       1\n",
      "11764      3\n",
      "884        7\n",
      "25410      4\n",
      "...      ...\n",
      "7515       3\n",
      "6573       9\n",
      "25283      9\n",
      "8687       9\n",
      "28612      7\n",
      "\n",
      "[1050 rows x 1 columns]\n"
     ]
    }
   ],
   "source": [
    "from sklearn.model_selection import train_test_split\n",
    "x=df_sample.drop(columns=['label'])\n",
    "y=df_sample[['label']]\n",
    "X_train,X_val,Y_train,Y_val=train_test_split(x,y,test_size=0.25)\n",
    "print(X_train,X_val,Y_train,Y_val)"
   ]
  },
  {
   "cell_type": "code",
   "execution_count": 17,
   "id": "dd76b6fd-e037-4ffe-b075-8fb9c6b1584f",
   "metadata": {},
   "outputs": [
    {
     "name": "stdout",
     "output_type": "stream",
     "text": [
      "KNN model training complete!\n"
     ]
    },
    {
     "name": "stderr",
     "output_type": "stream",
     "text": [
      "/home/user/anaconda3/lib/python3.11/site-packages/sklearn/neighbors/_classification.py:215: DataConversionWarning: A column-vector y was passed when a 1d array was expected. Please change the shape of y to (n_samples,), for example using ravel().\n",
      "  return self._fit(X, y)\n"
     ]
    }
   ],
   "source": [
    "from sklearn.neighbors import KNeighborsClassifier\n",
    "\n",
    "# Create the KNN classifier\n",
    "knn = KNeighborsClassifier(n_neighbors=5)\n",
    "\n",
    "# Train (fit) the model using training data\n",
    "knn.fit(X_train, Y_train)\n",
    "\n",
    "print(\"KNN model training complete!\")\n"
   ]
  },
  {
   "cell_type": "code",
   "execution_count": 18,
   "id": "3a4976c0-0bc8-4b2d-ad66-31138729a9d2",
   "metadata": {},
   "outputs": [
    {
     "name": "stdout",
     "output_type": "stream",
     "text": [
      "Predicted class labels: [6 1 3 1 4 8 5 8 9 7]\n"
     ]
    }
   ],
   "source": [
    "# Predict class labels for the validation set\n",
    "Y_pred = knn.predict(X_val)\n",
    "\n",
    "# Print the first 10 predictions\n",
    "print(\"Predicted class labels:\", Y_pred[:10])\n"
   ]
  },
  {
   "cell_type": "code",
   "execution_count": 19,
   "id": "e4c03e0c-e393-49eb-ba1c-ca995f048ff1",
   "metadata": {},
   "outputs": [],
   "source": [
    "13\n",
    "from sklearn.neighbors import KNeighborsClassifier\n",
    "\n",
    "# Create the KNN classifier using default parameters\n",
    "knn = KNeighborsClassifier(n_neighbors=5, metric='minkowski', p=2)\n"
   ]
  },
  {
   "cell_type": "code",
   "execution_count": 20,
   "id": "2b77d5a2-ecb3-4a0c-8ac8-dd57f229761b",
   "metadata": {},
   "outputs": [
    {
     "name": "stdout",
     "output_type": "stream",
     "text": [
      "[6 1 3 1 4]\n"
     ]
    }
   ],
   "source": [
    "14\n",
    "# Step 12 (recap): Fit the model\n",
    "knn.fit(X_train, Y_train.values.ravel())\n",
    "\n",
    "# Step 14: Predict on validation data\n",
    "y_pred = knn.predict(X_val)\n",
    "\n",
    "print(y_pred[:5])"
   ]
  },
  {
   "cell_type": "code",
   "execution_count": 21,
   "id": "227faaf2-d9f5-4ed5-bd6e-e618ba74fd82",
   "metadata": {},
   "outputs": [
    {
     "name": "stdout",
     "output_type": "stream",
     "text": [
      "Confusion Matrix:\n",
      "[[115   0   0   0   0   1   0   0   0   0]\n",
      " [  0 130   0   0   0   0   0   0   0   0]\n",
      " [  1   7  96   0   0   0   1   0   1   0]\n",
      " [  0   3   0 116   1   3   0   0   1   0]\n",
      " [  0   4   0   0  87   0   3   2   0   5]\n",
      " [  1   0   0   4   0  62   0   0   1   2]\n",
      " [  1   0   0   0   0   1  87   0   0   0]\n",
      " [  0   9   0   0   2   0   0  99   0   2]\n",
      " [  1   6   0   4   0   1   0   1  83   2]\n",
      " [  0   2   0   1   1   0   0   6   0  94]]\n"
     ]
    }
   ],
   "source": [
    "from sklearn.metrics import confusion_matrix\n",
    "\n",
    "# Print the confusion matrix\n",
    "cm = confusion_matrix(Y_val, y_pred)\n",
    "print(\"Confusion Matrix:\")\n",
    "print(cm)\n"
   ]
  },
  {
   "cell_type": "code",
   "execution_count": 22,
   "id": "99ec7a7a-7c64-4ae9-ac59-8b72867e0179",
   "metadata": {},
   "outputs": [
    {
     "name": "stdout",
     "output_type": "stream",
     "text": [
      "Classification Report:\n",
      "              precision    recall  f1-score   support\n",
      "\n",
      "           0       0.97      0.99      0.98       116\n",
      "           1       0.81      1.00      0.89       130\n",
      "           2       1.00      0.91      0.95       106\n",
      "           3       0.93      0.94      0.93       124\n",
      "           4       0.96      0.86      0.91       101\n",
      "           5       0.91      0.89      0.90        70\n",
      "           6       0.96      0.98      0.97        89\n",
      "           7       0.92      0.88      0.90       112\n",
      "           8       0.97      0.85      0.90        98\n",
      "           9       0.90      0.90      0.90       104\n",
      "\n",
      "    accuracy                           0.92      1050\n",
      "   macro avg       0.93      0.92      0.92      1050\n",
      "weighted avg       0.93      0.92      0.92      1050\n",
      "\n",
      "Accuracy: 92.29%\n"
     ]
    }
   ],
   "source": [
    "from sklearn.metrics import classification_report, accuracy_score\n",
    "\n",
    "# Classification report\n",
    "print(\"Classification Report:\")\n",
    "print(classification_report(Y_val, y_pred))\n",
    "\n",
    "# Accuracy score\n",
    "accuracy = accuracy_score(Y_val, y_pred)\n",
    "print(\"Accuracy: {:.2f}%\".format(accuracy * 100))\n"
   ]
  },
  {
   "cell_type": "code",
   "execution_count": 23,
   "id": "37609039-9c9e-4eb3-8a15-90daa92a4272",
   "metadata": {},
   "outputs": [
    {
     "name": "stdout",
     "output_type": "stream",
     "text": [
      "Predicted y values:\n",
      "[6 1 3 ... 9 9 7]\n"
     ]
    }
   ],
   "source": [
    "# Print predicted values\n",
    "print(\"Predicted y values:\")\n",
    "print(y_pred)\n"
   ]
  },
  {
   "cell_type": "code",
   "execution_count": 33,
   "id": "f790e4e1-b9f8-4d43-b86b-01e2fec54630",
   "metadata": {},
   "outputs": [
    {
     "data": {
      "image/png": "[encoded data removed]",
      "text/plain": [
       "<Figure size 1000x200 with 5 Axes>"
      ]
     },
     "metadata": {},
     "output_type": "display_data"
    }
   ],
   "source": [
    "#from sklearn.datasets import load_digits\n",
    "#from sklearn.model_selection import train_test_split\n",
    "#from sklearn.neighbors import KNeighborsClassifier\n",
    "##import matplotlib.pyplot as plt\n",
    "\n",
    "# Load digits dataset\n",
    "#digits = load_digits()\n",
    "#X_train, X_val, y_train, y_val = train_test_split(digits.data, digits.target, test_size=0.2, random_state=42)\n",
    "\n",
    "# Train k-NN\n",
    "#knn = KNeighborsClassifier(n_neighbors=3)\n",
    "#knn.fit(X_train, y_train)\n",
    "\n",
    "# Predict\n",
    "y_pred = knn.predict(X_val)\n",
    "\n",
    "# Plot\n",
    "plt.figure(figsize=(10, 2))\n",
    "for i in range(5):\n",
    "    image = X_val[i].reshape(8, 8)\n",
    "    plt.subplot(1, 5, i + 1)\n",
    "    plt.imshow(image, cmap='gray')\n",
    "    plt.title(f\"Pred: {y_pred[i]}\")\n",
    "    plt.axis('off')\n",
    "plt.tight_layout()\n",
    "plt.show()\n"
   ]
  },
  {
   "cell_type": "code",
   "execution_count": 34,
   "id": "aea4ed5a-96d8-4578-9089-36c3bfaedbf3",
   "metadata": {},
   "outputs": [
    {
     "data": {
      "image/png": "[encoded data removed]",
      "text/plain": [
       "<Figure size 1000x200 with 5 Axes>"
      ]
     },
     "metadata": {},
     "output_type": "display_data"
    }
   ],
   "source": [
    "17\n",
    "\n",
    "y_pred = knn.predict(X_val)\n",
    "\n",
    "# Plot\n",
    "plt.figure(figsize=(10, 2))\n",
    "for i in range(5):\n",
    "    image = X_val[i].reshape(8, 8)\n",
    "    plt.subplot(1, 5, i + 1)\n",
    "    plt.imshow(image, cmap='gray')\n",
    "    plt.title(f\"Pred: {y_pred[i]}\")\n",
    "    plt.axis('off')\n",
    "plt.tight_layout()\n",
    "plt.show()\n"
   ]
  },
  {
   "cell_type": "code",
   "execution_count": null,
   "id": "76f160b0-ee31-470e-9c26-f895e0b1a8ff",
   "metadata": {},
   "outputs": [],
   "source": []
  }
 ],
 "metadata": {
  "kernelspec": {
   "display_name": "Python 3 (ipykernel)",
   "language": "python",
   "name": "python3"
  },
  "language_info": {
   "codemirror_mode": {
    "name": "ipython",
    "version": 3
   },
   "file_extension": ".py",
   "mimetype": "text/x-python",
   "name": "python",
   "nbconvert_exporter": "python",
   "pygments_lexer": "ipython3",
   "version": "3.11.7"
  }
 },
 "nbformat": 4,
 "nbformat_minor": 5
}
