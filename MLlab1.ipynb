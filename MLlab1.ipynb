{
 "cells": [
  {
   "cell_type": "markdown",
   "id": "34ab8386-5d1d-4120-8d3e-e9d4384143be",
   "metadata": {},
   "source": [
    "CREATING A SERIES"
   ]
  },
  {
   "cell_type": "code",
   "execution_count": 1,
   "id": "529d84ef-fa40-4d49-8e31-899a9222eafc",
   "metadata": {},
   "outputs": [
    {
     "name": "stdout",
     "output_type": "stream",
     "text": [
      "0    1\n",
      "1    2\n",
      "2    3\n",
      "3    4\n",
      "dtype: int64\n"
     ]
    }
   ],
   "source": [
    "import pandas as pd\n",
    "data=[1,2,3,4]\n",
    "df=pd.Series(data)\n",
    "print(df)\n"
   ]
  },
  {
   "cell_type": "markdown",
   "id": "72525b40-76f1-4755-8964-c86d2671eba7",
   "metadata": {},
   "source": [
    "creating a DataFrame"
   ]
  },
  {
   "cell_type": "code",
   "execution_count": 3,
   "id": "1f86032b-6a5e-441e-9d76-295192229ee2",
   "metadata": {},
   "outputs": [
    {
     "name": "stdout",
     "output_type": "stream",
     "text": [
      "       name  age        city\n",
      "0  poojitha   25    new york\n",
      "1    chitti   30  los angles\n",
      "2    kavati   35     chicago\n"
     ]
    }
   ],
   "source": [
    "import pandas as pd\n",
    "data={'name':[\"poojitha\",\"chitti\",\"kavati\"],\n",
    "      'age':[25,30,35],\n",
    "             'city':['new york','los angles','chicago']\n",
    "     }\n",
    "df=pd.DataFrame(data)\n",
    "print(df)"
   ]
  },
  {
   "cell_type": "markdown",
   "id": "e0f81b02-8ffc-4117-9450-13d8edc6fef9",
   "metadata": {},
   "source": [
    "READING DATA FROM FILES"
   ]
  },
  {
   "cell_type": "code",
   "execution_count": 2,
   "id": "b6f0b681-4961-436c-915f-c611d16b58be",
   "metadata": {},
   "outputs": [],
   "source": [
    "import pandas as pd\n",
    "df=pd.read_csv(\"/home/user/Downloads/transactions.csv\")"
   ]
  },
  {
   "cell_type": "code",
   "execution_count": 9,
   "id": "609e30ea-b046-4ed4-8895-e33a3aad7961",
   "metadata": {},
   "outputs": [
    {
     "name": "stdout",
     "output_type": "stream",
     "text": [
      "   TransactionID TransactionDate  UserID  ProductID  Quantity\n",
      "0              1      2010-08-21     7.0          2         1\n",
      "1              2      2011-05-26     3.0          4         1\n",
      "2              3      2011-06-16     3.0          3         1\n",
      "3              4      2012-08-26     1.0          2         3\n",
      "4              5      2013-06-06     2.0          4         1\n",
      "5              6      2013-12-23     2.0          5         6\n",
      "6              7      2013-12-30     3.0          4         1\n",
      "7              8      2014-04-24     NaN          2         3\n",
      "8              9      2015-04-24     7.0          4         3\n",
      "9             10      2016-05-08     3.0          4         4\n"
     ]
    }
   ],
   "source": [
    "import pandas as pd\n",
    "df = pd.read_csv('/home/user/Downloads/transactions.csv')\n",
    "print(df.head(10))"
   ]
  },
  {
   "cell_type": "code",
   "execution_count": 10,
   "id": "7eedd1d7-7722-461e-a95e-dfa9e320a729",
   "metadata": {},
   "outputs": [
    {
     "name": "stdout",
     "output_type": "stream",
     "text": [
      "   TransactionID TransactionDate  UserID  ProductID  Quantity\n",
      "5              6      2013-12-23     2.0          5         6\n",
      "6              7      2013-12-30     3.0          4         1\n",
      "7              8      2014-04-24     NaN          2         3\n",
      "8              9      2015-04-24     7.0          4         3\n",
      "9             10      2016-05-08     3.0          4         4\n"
     ]
    }
   ],
   "source": [
    "import pandas as pd\n",
    "df = pd.read_csv('/home/user/Downloads/transactions.csv')\n",
    "print(df.tail())"
   ]
  },
  {
   "cell_type": "code",
   "execution_count": 11,
   "id": "5aebb6a1-caf4-4018-b4d1-fec3e8fa135b",
   "metadata": {},
   "outputs": [
    {
     "name": "stdout",
     "output_type": "stream",
     "text": [
      "   TransactionID TransactionDate  UserID  ProductID  Quantity\n",
      "0              1      2010-08-21     7.0          2         1\n",
      "1              2      2011-05-26     3.0          4         1\n",
      "2              3      2011-06-16     3.0          3         1\n",
      "3              4      2012-08-26     1.0          2         3\n",
      "4              5      2013-06-06     2.0          4         1\n"
     ]
    }
   ],
   "source": [
    "import pandas as pd\n",
    "df = pd.read_csv('/home/user/Downloads/transactions.csv')\n",
    "print(df.head())"
   ]
  },
  {
   "cell_type": "code",
   "execution_count": 12,
   "id": "a8adbf74-baf5-4700-92e6-b10754dfccf5",
   "metadata": {},
   "outputs": [
    {
     "name": "stdout",
     "output_type": "stream",
     "text": [
      "<class 'pandas.core.frame.DataFrame'>\n",
      "RangeIndex: 10 entries, 0 to 9\n",
      "Data columns (total 5 columns):\n",
      " #   Column           Non-Null Count  Dtype  \n",
      "---  ------           --------------  -----  \n",
      " 0   TransactionID    10 non-null     int64  \n",
      " 1   TransactionDate  10 non-null     object \n",
      " 2   UserID           9 non-null      float64\n",
      " 3   ProductID        10 non-null     int64  \n",
      " 4   Quantity         10 non-null     int64  \n",
      "dtypes: float64(1), int64(3), object(1)\n",
      "memory usage: 532.0+ bytes\n",
      "None\n"
     ]
    }
   ],
   "source": [
    "import pandas as pd\n",
    "df = pd.read_csv('/home/user/Downloads/transactions.csv')\n",
    "print(df.info())"
   ]
  },
  {
   "cell_type": "code",
   "execution_count": 13,
   "id": "307a4334-e6cc-4991-b12b-5b1480dd3eb2",
   "metadata": {},
   "outputs": [
    {
     "name": "stdout",
     "output_type": "stream",
     "text": [
      "       TransactionID    UserID  ProductID   Quantity\n",
      "count       10.00000  9.000000  10.000000  10.000000\n",
      "mean         5.50000  3.444444   3.400000   2.400000\n",
      "std          3.02765  2.127858   1.074968   1.712698\n",
      "min          1.00000  1.000000   2.000000   1.000000\n",
      "25%          3.25000  2.000000   2.250000   1.000000\n",
      "50%          5.50000  3.000000   4.000000   2.000000\n",
      "75%          7.75000  3.000000   4.000000   3.000000\n",
      "max         10.00000  7.000000   5.000000   6.000000\n"
     ]
    }
   ],
   "source": [
    "import pandas as pd\n",
    "df = pd.read_csv('/home/user/Downloads/transactions.csv')\n",
    "print(df.describe())"
   ]
  },
  {
   "cell_type": "code",
   "execution_count": 15,
   "id": "b82b9937-e6f9-4c2b-a222-6ccc16729d4c",
   "metadata": {},
   "outputs": [
    {
     "name": "stdout",
     "output_type": "stream",
     "text": [
      "<pandas.core.indexing._iLocIndexer object at 0x7f8e806ae0d0>\n"
     ]
    }
   ],
   "source": [
    "import pandas as pd\n",
    "df = pd.read_csv('/home/user/Downloads/transactions.csv')\n",
    "print(df.iloc())"
   ]
  },
  {
   "cell_type": "code",
   "execution_count": 18,
   "id": "bb9610b5-94a1-473a-8457-eb2e570428d7",
   "metadata": {},
   "outputs": [
    {
     "name": "stdout",
     "output_type": "stream",
     "text": [
      "TransactionID               2\n",
      "TransactionDate    2011-05-26\n",
      "UserID                    3.0\n",
      "ProductID                   4\n",
      "Quantity                    1\n",
      "Name: 1, dtype: object\n"
     ]
    }
   ],
   "source": [
    "import pandas as pd\n",
    "df = pd.read_csv('/home/user/Downloads/transactions.csv')\n",
    "print(df.iloc[1])"
   ]
  },
  {
   "cell_type": "code",
   "execution_count": 21,
   "id": "ce6f45b2-3e72-42c6-9c46-e2447d202db4",
   "metadata": {},
   "outputs": [
    {
     "name": "stdout",
     "output_type": "stream",
     "text": [
      "0    1\n",
      "1    1\n",
      "2    1\n",
      "3    3\n",
      "4    1\n",
      "5    6\n",
      "6    1\n",
      "7    3\n",
      "8    3\n",
      "9    4\n",
      "Name: Quantity, dtype: int64\n"
     ]
    }
   ],
   "source": [
    "import pandas as pd\n",
    "df = pd.read_csv('/home/user/Downloads/transactions.csv')\n",
    "print(df['Quantity'])"
   ]
  },
  {
   "cell_type": "markdown",
   "id": "24c0ff13-ac2c-4ebe-92cc-614721d014da",
   "metadata": {},
   "source": [
    "Filtering Data"
   ]
  },
  {
   "cell_type": "code",
   "execution_count": 23,
   "id": "fa0ff7ef-a573-4fd4-9e18-6f7c620560b4",
   "metadata": {},
   "outputs": [
    {
     "name": "stdout",
     "output_type": "stream",
     "text": [
      "       name  age        city\n",
      "0  poojitha   25    new york\n",
      "1    chitti   30  los angles\n",
      "2    kavati   35     chicago\n"
     ]
    }
   ],
   "source": [
    "import pandas as pd\n",
    "data={'name':[\"poojitha\",\"chitti\",\"kavati\"],\n",
    "      'age':[25,30,35],\n",
    "             'city':['new york','los angles','chicago']\n",
    "     }\n",
    "df=pd.DataFrame(data)\n",
    "print(df)"
   ]
  },
  {
   "cell_type": "code",
   "execution_count": 28,
   "id": "5fdbe7f0-5b4f-4249-86cd-35f3cc3462de",
   "metadata": {},
   "outputs": [
    {
     "name": "stdout",
     "output_type": "stream",
     "text": [
      "       name  age        city\n",
      "0  poojitha   25    new york\n",
      "1    chitti   30  los angles\n",
      "2    kavati   35     chicago\n"
     ]
    }
   ],
   "source": [
    "import pandas as pd\n",
    "df=pd.DataFrame(data)\n",
    "filtered_df = df[df['age'] > 20]\n",
    "print(filtered_df)"
   ]
  },
  {
   "cell_type": "markdown",
   "id": "e1ef44bf-324f-4f43-b83c-0448029ae791",
   "metadata": {},
   "source": [
    "Renaming Columns"
   ]
  },
  {
   "cell_type": "code",
   "execution_count": 30,
   "id": "8a51e82e-49f8-4dd8-985c-2b43cb3692a9",
   "metadata": {},
   "outputs": [
    {
     "name": "stdout",
     "output_type": "stream",
     "text": [
      "  Full Name  Years        city\n",
      "0  poojitha     25    new york\n",
      "1    chitti     30  los angles\n",
      "2    kavati     35     chicago\n"
     ]
    }
   ],
   "source": [
    "df.rename(columns={'name':'Full Name','age':'Years'},\n",
    "          inplace=True)\n",
    "print(df)"
   ]
  },
  {
   "cell_type": "code",
   "execution_count": 2,
   "id": "bf5e73dd-d310-4c3b-bb8a-fa2a55e2e612",
   "metadata": {},
   "outputs": [
    {
     "name": "stdout",
     "output_type": "stream",
     "text": [
      "   TransactionID TransactionDate  UserID  ProductID  Quant\n",
      "0              1      2010-08-21     7.0          2      1\n",
      "1              2      2011-05-26     3.0          4      1\n",
      "2              3      2011-06-16     3.0          3      1\n",
      "3              4      2012-08-26     1.0          2      3\n",
      "4              5      2013-06-06     2.0          4      1\n"
     ]
    }
   ],
   "source": [
    "import pandas as pd\n",
    "df=pd.read_csv('/home/user/Downloads/transactions.csv')\n",
    "df.rename(columns={\"Quantity\":\"Quant\"},inplace=True)\n",
    "print(df.head())"
   ]
  },
  {
   "cell_type": "code",
   "execution_count": 33,
   "id": "91cbc643-c36e-46bb-b5a0-190df1b98f54",
   "metadata": {},
   "outputs": [
    {
     "name": "stdout",
     "output_type": "stream",
     "text": [
      "       name  age        city\n",
      "0  poojitha   25    new york\n",
      "1    chitti   30  los angles\n",
      "2    kavati   35     chicago\n"
     ]
    }
   ],
   "source": [
    "import pandas as pd\n",
    "data={'name':[\"poojitha\",\"chitti\",\"kavati\"],\n",
    "      'age':[25,30,35],\n",
    "             'city':['new york','los angles','chicago']\n",
    "     }\n",
    "df=pd.DataFrame(data)\n",
    "print(df)"
   ]
  },
  {
   "cell_type": "code",
   "execution_count": 77,
   "id": "747c2c78-e461-4a3e-a7e8-4744fa9f8189",
   "metadata": {},
   "outputs": [
    {
     "name": "stdout",
     "output_type": "stream",
     "text": [
      "TransactionID      0\n",
      "TransactionDate    0\n",
      "UID                1\n",
      "PID                0\n",
      "Quantity           0\n",
      "dtype: int64\n"
     ]
    }
   ],
   "source": [
    "print(df.isnull().sum())"
   ]
  },
  {
   "cell_type": "code",
   "execution_count": 35,
   "id": "33132201-5a08-40aa-bc6d-5a27bc262b03",
   "metadata": {},
   "outputs": [],
   "source": [
    "df['age'].fillna(df['age'].mean(),inplace=True)"
   ]
  },
  {
   "cell_type": "code",
   "execution_count": 36,
   "id": "9389d1c6-3382-43cc-95fd-a6e1344bf36b",
   "metadata": {},
   "outputs": [],
   "source": [
    "df.dropna(inplace=True)"
   ]
  },
  {
   "cell_type": "markdown",
   "id": "71c97d84-612a-4bef-a0cd-bb31222352b9",
   "metadata": {},
   "source": [
    "Sorting the data"
   ]
  },
  {
   "cell_type": "code",
   "execution_count": 37,
   "id": "42468049-fdcf-4d40-926e-8d7f559ca468",
   "metadata": {},
   "outputs": [
    {
     "name": "stdout",
     "output_type": "stream",
     "text": [
      "   TransactionID TransactionDate  UserID  ProductID  Quantity\n",
      "6              7      2013-12-30     3.0          4         1\n",
      "4              5      2013-06-06     2.0          4         1\n",
      "2              3      2011-06-16     3.0          3         1\n",
      "1              2      2011-05-26     3.0          4         1\n",
      "0              1      2010-08-21     7.0          2         1\n"
     ]
    }
   ],
   "source": [
    "import pandas as pd\n",
    "df=pd.read_csv('/home/user/Downloads/transactions.csv')\n",
    "df_sorted=df.sort_values(by=[\"Quantity\",\"TransactionDate\"],\n",
    "                         ascending=[True,False])\n",
    "print(df_sorted.head())"
   ]
  },
  {
   "cell_type": "markdown",
   "id": "6a82f14f-5a6c-4a2b-aacb-8b97505d84d7",
   "metadata": {},
   "source": [
    "Subsetting data"
   ]
  },
  {
   "cell_type": "code",
   "execution_count": 38,
   "id": "f422a223-415b-4761-b8b7-a9124126238e",
   "metadata": {},
   "outputs": [
    {
     "name": "stdout",
     "output_type": "stream",
     "text": [
      "   TransactionID TransactionDate  UserID  ProductID  Quantity\n",
      "3              4      2012-08-26     1.0          2         3\n",
      "5              6      2013-12-23     2.0          5         6\n",
      "7              8      2014-04-24     NaN          2         3\n",
      "8              9      2015-04-24     7.0          4         3\n",
      "9             10      2016-05-08     3.0          4         4\n"
     ]
    }
   ],
   "source": [
    "subset=df[df['Quantity']>1]\n",
    "print(subset)"
   ]
  },
  {
   "cell_type": "code",
   "execution_count": 39,
   "id": "6ddfa00f-14d2-44e1-a7e9-ad6ff056cc67",
   "metadata": {},
   "outputs": [
    {
     "name": "stdout",
     "output_type": "stream",
     "text": [
      "   TransactionID TransactionDate  UserID  ProductID  Quantity\n",
      "0              1      2010-08-21     7.0          2         1\n",
      "2              3      2011-06-16     3.0          3         1\n",
      "5              6      2013-12-23     2.0          5         6\n"
     ]
    }
   ],
   "source": [
    "subset_rows=df.iloc[[0,2,5]]\n",
    "print(subset_rows)"
   ]
  },
  {
   "cell_type": "markdown",
   "id": "fb0389e3-e3eb-405a-840b-f662b8bef51b",
   "metadata": {},
   "source": [
    "Subset rows where an external array, foo, is True"
   ]
  },
  {
   "cell_type": "code",
   "execution_count": 43,
   "id": "3d13fb2a-d5f2-4daf-b6e6-59bd2f5cce98",
   "metadata": {},
   "outputs": [
    {
     "ename": "ValueError",
     "evalue": "Item wrong length 4 instead of 10.",
     "output_type": "error",
     "traceback": [
      "\u001b[0;31m---------------------------------------------------------------------------\u001b[0m",
      "\u001b[0;31mValueError\u001b[0m                                Traceback (most recent call last)",
      "\u001b[0;32m/tmp/ipykernel_4427/368117518.py\u001b[0m in \u001b[0;36m?\u001b[0;34m()\u001b[0m\n\u001b[1;32m      1\u001b[0m \u001b[0mfoo\u001b[0m \u001b[0;34m=\u001b[0m \u001b[0;34m[\u001b[0m\u001b[0;32mTrue\u001b[0m\u001b[0;34m,\u001b[0m \u001b[0;32mFalse\u001b[0m\u001b[0;34m,\u001b[0m \u001b[0;32mTrue\u001b[0m\u001b[0;34m,\u001b[0m \u001b[0;32mFalse\u001b[0m\u001b[0;34m]\u001b[0m \u001b[0;31m# Example of a boolean array\u001b[0m\u001b[0;34m\u001b[0m\u001b[0;34m\u001b[0m\u001b[0m\n\u001b[0;32m----> 2\u001b[0;31m \u001b[0msubset_rows\u001b[0m \u001b[0;34m=\u001b[0m \u001b[0mdf\u001b[0m\u001b[0;34m[\u001b[0m\u001b[0mfoo\u001b[0m\u001b[0;34m]\u001b[0m\u001b[0;34m\u001b[0m\u001b[0;34m\u001b[0m\u001b[0m\n\u001b[0m\u001b[1;32m      3\u001b[0m \u001b[0mprint\u001b[0m\u001b[0;34m(\u001b[0m\u001b[0msubset_rows\u001b[0m\u001b[0;34m)\u001b[0m\u001b[0;34m\u001b[0m\u001b[0;34m\u001b[0m\u001b[0m\n",
      "\u001b[0;32m~/anaconda3/lib/python3.11/site-packages/pandas/core/frame.py\u001b[0m in \u001b[0;36m?\u001b[0;34m(self, key)\u001b[0m\n\u001b[1;32m   3880\u001b[0m             \u001b[0;32mreturn\u001b[0m \u001b[0mself\u001b[0m\u001b[0;34m.\u001b[0m\u001b[0mwhere\u001b[0m\u001b[0;34m(\u001b[0m\u001b[0mkey\u001b[0m\u001b[0;34m)\u001b[0m\u001b[0;34m\u001b[0m\u001b[0;34m\u001b[0m\u001b[0m\n\u001b[1;32m   3881\u001b[0m \u001b[0;34m\u001b[0m\u001b[0m\n\u001b[1;32m   3882\u001b[0m         \u001b[0;31m# Do we have a (boolean) 1d indexer?\u001b[0m\u001b[0;34m\u001b[0m\u001b[0;34m\u001b[0m\u001b[0m\n\u001b[1;32m   3883\u001b[0m         \u001b[0;32mif\u001b[0m \u001b[0mcom\u001b[0m\u001b[0;34m.\u001b[0m\u001b[0mis_bool_indexer\u001b[0m\u001b[0;34m(\u001b[0m\u001b[0mkey\u001b[0m\u001b[0;34m)\u001b[0m\u001b[0;34m:\u001b[0m\u001b[0;34m\u001b[0m\u001b[0;34m\u001b[0m\u001b[0m\n\u001b[0;32m-> 3884\u001b[0;31m             \u001b[0;32mreturn\u001b[0m \u001b[0mself\u001b[0m\u001b[0;34m.\u001b[0m\u001b[0m_getitem_bool_array\u001b[0m\u001b[0;34m(\u001b[0m\u001b[0mkey\u001b[0m\u001b[0;34m)\u001b[0m\u001b[0;34m\u001b[0m\u001b[0;34m\u001b[0m\u001b[0m\n\u001b[0m\u001b[1;32m   3885\u001b[0m \u001b[0;34m\u001b[0m\u001b[0m\n\u001b[1;32m   3886\u001b[0m         \u001b[0;31m# We are left with two options: a single key, and a collection of keys,\u001b[0m\u001b[0;34m\u001b[0m\u001b[0;34m\u001b[0m\u001b[0m\n\u001b[1;32m   3887\u001b[0m         \u001b[0;31m# We interpret tuples as collections only for non-MultiIndex\u001b[0m\u001b[0;34m\u001b[0m\u001b[0;34m\u001b[0m\u001b[0m\n",
      "\u001b[0;32m~/anaconda3/lib/python3.11/site-packages/pandas/core/frame.py\u001b[0m in \u001b[0;36m?\u001b[0;34m(self, key)\u001b[0m\n\u001b[1;32m   3930\u001b[0m                 \u001b[0mUserWarning\u001b[0m\u001b[0;34m,\u001b[0m\u001b[0;34m\u001b[0m\u001b[0;34m\u001b[0m\u001b[0m\n\u001b[1;32m   3931\u001b[0m                 \u001b[0mstacklevel\u001b[0m\u001b[0;34m=\u001b[0m\u001b[0mfind_stack_level\u001b[0m\u001b[0;34m(\u001b[0m\u001b[0;34m)\u001b[0m\u001b[0;34m,\u001b[0m\u001b[0;34m\u001b[0m\u001b[0;34m\u001b[0m\u001b[0m\n\u001b[1;32m   3932\u001b[0m             )\n\u001b[1;32m   3933\u001b[0m         \u001b[0;32melif\u001b[0m \u001b[0mlen\u001b[0m\u001b[0;34m(\u001b[0m\u001b[0mkey\u001b[0m\u001b[0;34m)\u001b[0m \u001b[0;34m!=\u001b[0m \u001b[0mlen\u001b[0m\u001b[0;34m(\u001b[0m\u001b[0mself\u001b[0m\u001b[0;34m.\u001b[0m\u001b[0mindex\u001b[0m\u001b[0;34m)\u001b[0m\u001b[0;34m:\u001b[0m\u001b[0;34m\u001b[0m\u001b[0;34m\u001b[0m\u001b[0m\n\u001b[0;32m-> 3934\u001b[0;31m             raise ValueError(\n\u001b[0m\u001b[1;32m   3935\u001b[0m                 \u001b[0;34mf\"Item wrong length {len(key)} instead of {len(self.index)}.\"\u001b[0m\u001b[0;34m\u001b[0m\u001b[0;34m\u001b[0m\u001b[0m\n\u001b[1;32m   3936\u001b[0m             )\n\u001b[1;32m   3937\u001b[0m \u001b[0;34m\u001b[0m\u001b[0m\n",
      "\u001b[0;31mValueError\u001b[0m: Item wrong length 4 instead of 10."
     ]
    }
   ],
   "source": [
    "foo = [True, False, True, False] # Example of a boolean array\n",
    "subset_rows = df[foo]\n",
    "print(subset_rows)"
   ]
  },
  {
   "cell_type": "markdown",
   "id": "7d041203-2a70-46cd-8278-c0386fff8833",
   "metadata": {},
   "source": [
    "Subset by columns TransactionID and TransactionDate with\n",
    "logical operator"
   ]
  },
  {
   "cell_type": "code",
   "execution_count": 44,
   "id": "aa5f4f6f-6437-45c2-a1de-8ae565185fb5",
   "metadata": {},
   "outputs": [
    {
     "name": "stdout",
     "output_type": "stream",
     "text": [
      "   TransactionID TransactionDate\n",
      "3              4      2012-08-26\n",
      "5              6      2013-12-23\n",
      "7              8      2014-04-24\n",
      "8              9      2015-04-24\n",
      "9             10      2016-05-08\n"
     ]
    }
   ],
   "source": [
    "subset = df[df['Quantity'] > 1][['TransactionID',\n",
    "'TransactionDate']]\n",
    "print(subset)"
   ]
  },
  {
   "cell_type": "markdown",
   "id": "4c2306f4-0026-40e3-ab37-6aee9a56693b",
   "metadata": {},
   "source": [
    "Subset columns by a variable list of column names"
   ]
  },
  {
   "cell_type": "code",
   "execution_count": 45,
   "id": "cf2018f3-c68b-4a0e-b79c-8076b726283d",
   "metadata": {},
   "outputs": [
    {
     "name": "stdout",
     "output_type": "stream",
     "text": [
      "   TransactionID TransactionDate\n",
      "0              1      2010-08-21\n",
      "1              2      2011-05-26\n",
      "2              3      2011-06-16\n",
      "3              4      2012-08-26\n",
      "4              5      2013-06-06\n",
      "5              6      2013-12-23\n",
      "6              7      2013-12-30\n",
      "7              8      2014-04-24\n",
      "8              9      2015-04-24\n",
      "9             10      2016-05-08\n"
     ]
    }
   ],
   "source": [
    "columns_to_select=['TransactionID','TransactionDate']\n",
    "subnet_columns=df[columns_to_select]\n",
    "print(subnet_columns)"
   ]
  },
  {
   "cell_type": "markdown",
   "id": "95fe3c35-ad39-45ab-a940-f2b4f531c3ce",
   "metadata": {},
   "source": [
    "Subset columns excluding a variable list of column names"
   ]
  },
  {
   "cell_type": "code",
   "execution_count": 46,
   "id": "2e68285f-510e-475b-b189-2006e8e36686",
   "metadata": {},
   "outputs": [
    {
     "name": "stdout",
     "output_type": "stream",
     "text": [
      "   TransactionID TransactionDate  UserID\n",
      "0              1      2010-08-21     7.0\n",
      "1              2      2011-05-26     3.0\n",
      "2              3      2011-06-16     3.0\n",
      "3              4      2012-08-26     1.0\n",
      "4              5      2013-06-06     2.0\n",
      "5              6      2013-12-23     2.0\n",
      "6              7      2013-12-30     3.0\n",
      "7              8      2014-04-24     NaN\n",
      "8              9      2015-04-24     7.0\n",
      "9             10      2016-05-08     3.0\n"
     ]
    }
   ],
   "source": [
    "columns_to_exclude = ['Quantity', 'ProductID']\n",
    "subset_columns_excluded = df[[col for col in df.columns if col not\n",
    "in columns_to_exclude]]\n",
    "print(subset_columns_excluded)"
   ]
  },
  {
   "cell_type": "markdown",
   "id": "e78e54ac-d17f-4ac6-b421-f5f3e215b097",
   "metadata": {},
   "source": [
    "Convert the TransactionDate column to type Date"
   ]
  },
  {
   "cell_type": "code",
   "execution_count": 47,
   "id": "c510a0f0-04d3-4e0d-b952-4b3bde86730c",
   "metadata": {},
   "outputs": [
    {
     "name": "stdout",
     "output_type": "stream",
     "text": [
      "TransactionID               int64\n",
      "TransactionDate    datetime64[ns]\n",
      "UserID                    float64\n",
      "ProductID                   int64\n",
      "Quantity                    int64\n",
      "dtype: object\n"
     ]
    }
   ],
   "source": [
    "df['TransactionDate'] = pd.to_datetime(df['TransactionDate'])\n",
    "print(df.dtypes)"
   ]
  },
  {
   "cell_type": "markdown",
   "id": "c6c357fb-31f5-4c20-9bc2-5fa2bae4f97c",
   "metadata": {},
   "source": [
    "Insert a new column, Foo = UserID + ProductID"
   ]
  },
  {
   "cell_type": "code",
   "execution_count": 55,
   "id": "df434682-fb91-479d-984a-a416ea92d832",
   "metadata": {},
   "outputs": [
    {
     "name": "stdout",
     "output_type": "stream",
     "text": [
      "   TransactionID TransactionDate  UserID  ProductID  Quantity  Foo\n",
      "0              1      2010-08-21     7.0          2         1  9.0\n",
      "1              2      2011-05-26     3.0          4         1  7.0\n",
      "2              3      2011-06-16     3.0          3         1  6.0\n",
      "3              4      2012-08-26     1.0          2         3  3.0\n",
      "4              5      2013-06-06     2.0          4         1  6.0\n"
     ]
    }
   ],
   "source": [
    "df['Foo']=df['UserID']+df['ProductID']\n",
    "print(df.head())"
   ]
  },
  {
   "cell_type": "markdown",
   "id": "3f323ca6-e077-46b4-b12c-6543b445f1ff",
   "metadata": {},
   "source": [
    "Inserting a New Row"
   ]
  },
  {
   "cell_type": "code",
   "execution_count": 51,
   "id": "8f2f15b6-b274-41ce-979c-d767fb3a329c",
   "metadata": {},
   "outputs": [
    {
     "ename": "NameError",
     "evalue": "name 'new_user_id' is not defined",
     "output_type": "error",
     "traceback": [
      "\u001b[0;31m---------------------------------------------------------------------------\u001b[0m",
      "\u001b[0;31mNameError\u001b[0m                                 Traceback (most recent call last)",
      "Cell \u001b[0;32mIn[51], line 1\u001b[0m\n\u001b[0;32m----> 1\u001b[0m df\u001b[38;5;241m.\u001b[39mloc[\u001b[38;5;28mlen\u001b[39m(df)] \u001b[38;5;241m=\u001b[39m [new_user_id, new_product_id, new_quantity,\n\u001b[1;32m      2\u001b[0m new_transaction_date]\n\u001b[1;32m      3\u001b[0m \u001b[38;5;28mprint\u001b[39m(df\u001b[38;5;241m.\u001b[39mhead())\n",
      "\u001b[0;31mNameError\u001b[0m: name 'new_user_id' is not defined"
     ]
    }
   ],
   "source": [
    "df.loc[len(df)] = [new_user_id, new_product_id, new_quantity,\n",
    "new_transaction_date]\n",
    "print(df.head())"
   ]
  },
  {
   "cell_type": "markdown",
   "id": "df45cf1e-d8b4-4950-a775-db09fa753bdd",
   "metadata": {},
   "source": [
    "Updating Existing Values"
   ]
  },
  {
   "cell_type": "markdown",
   "id": "b1b1cd2d-cbff-4e35-819c-3b14d302bb49",
   "metadata": {},
   "source": [
    "df.loc[df['UserID'] == 2, 'Quantity'] = new_quantity_value"
   ]
  },
  {
   "cell_type": "markdown",
   "id": "82a41d2a-9819-4f06-8b03-ce8761923f19",
   "metadata": {},
   "source": [
    "Inserting a New Column"
   ]
  },
  {
   "cell_type": "code",
   "execution_count": 57,
   "id": "d289d5fc-f54e-4a97-952f-c4b34d8c14f3",
   "metadata": {},
   "outputs": [],
   "source": [
    "df['Foo'] = df['UserID'] + df['ProductID']"
   ]
  },
  {
   "cell_type": "markdown",
   "id": "944cb18c-5b62-4937-95ec-51f769d6852c",
   "metadata": {},
   "source": [
    "Modifying data frames"
   ]
  },
  {
   "cell_type": "code",
   "execution_count": 58,
   "id": "f0ac5e66-5843-4cf4-a2b5-541bab75c302",
   "metadata": {},
   "outputs": [
    {
     "name": "stdout",
     "output_type": "stream",
     "text": [
      "   TransactionID TransactionDate  UserID  ProductID  Quantity  Foo  NewColumn\n",
      "0              1      2010-08-21     7.0          2         1  9.0          2\n",
      "1              2      2011-05-26     3.0          4         1  7.0          2\n",
      "2              3      2011-06-16     3.0          3         1  6.0          2\n",
      "3              4      2012-08-26     1.0          2         3  3.0          6\n",
      "4              5      2013-06-06     2.0          4         1  6.0          2\n"
     ]
    }
   ],
   "source": [
    "df['NewColumn']=df['Quantity']*2\n",
    "print(df.head())"
   ]
  },
  {
   "cell_type": "markdown",
   "id": "d1fc7d39-5455-4221-a81d-b6a69795af4a",
   "metadata": {},
   "source": [
    "Handling dates"
   ]
  },
  {
   "cell_type": "code",
   "execution_count": 61,
   "id": "09ed019c-f765-4191-aa62-a07fd189d879",
   "metadata": {},
   "outputs": [],
   "source": [
    " df['TransactionDate'] =pd.to_datetime(df['TransactionDate'])"
   ]
  },
  {
   "cell_type": "code",
   "execution_count": 62,
   "id": "2954cf4e-2f51-4081-a504-13a36e0ec92b",
   "metadata": {},
   "outputs": [
    {
     "name": "stdout",
     "output_type": "stream",
     "text": [
      "   TransactionID TransactionDate  UserID  ProductID  Quantity  Foo  NewColumn\n",
      "0              1      2010-08-21     7.0          2         1  9.0          2\n",
      "1              2      2011-05-26     3.0          4         1  7.0          2\n",
      "2              3      2011-06-16     3.0          3         1  6.0          2\n",
      "3              4      2012-08-26     1.0          2         3  3.0          6\n",
      "4              5      2013-06-06     2.0          4         1  6.0          2\n"
     ]
    }
   ],
   "source": [
    "print(df.head())"
   ]
  },
  {
   "cell_type": "markdown",
   "id": "c015a592-4f02-41f1-bffb-ba668561f717",
   "metadata": {},
   "source": [
    "Exercise questions:"
   ]
  },
  {
   "cell_type": "code",
   "execution_count": 64,
   "id": "a927c257-dcd2-4364-95ac-04bb663ced7b",
   "metadata": {},
   "outputs": [
    {
     "ename": "NameError",
     "evalue": "name 'mydf' is not defined",
     "output_type": "error",
     "traceback": [
      "\u001b[0;31m---------------------------------------------------------------------------\u001b[0m",
      "\u001b[0;31mNameError\u001b[0m                                 Traceback (most recent call last)",
      "Cell \u001b[0;32mIn[64], line 1\u001b[0m\n\u001b[0;32m----> 1\u001b[0m mydf\n",
      "\u001b[0;31mNameError\u001b[0m: name 'mydf' is not defined"
     ]
    }
   ],
   "source": []
  },
  {
   "cell_type": "code",
   "execution_count": 65,
   "id": "4c39bf9a-d4c8-4602-b8f7-f0d09872d748",
   "metadata": {},
   "outputs": [
    {
     "data": {
      "text/html": [
       "<div>\n",
       "<style scoped>\n",
       "    .dataframe tbody tr th:only-of-type {\n",
       "        vertical-align: middle;\n",
       "    }\n",
       "\n",
       "    .dataframe tbody tr th {\n",
       "        vertical-align: top;\n",
       "    }\n",
       "\n",
       "    .dataframe thead th {\n",
       "        text-align: right;\n",
       "    }\n",
       "</style>\n",
       "<table border=\"1\" class=\"dataframe\">\n",
       "  <thead>\n",
       "    <tr style=\"text-align: right;\">\n",
       "      <th></th>\n",
       "      <th>TransactionID</th>\n",
       "      <th>TransactionDate</th>\n",
       "      <th>UserID</th>\n",
       "      <th>ProductID</th>\n",
       "      <th>Quantity</th>\n",
       "      <th>Foo</th>\n",
       "      <th>NewColumn</th>\n",
       "    </tr>\n",
       "  </thead>\n",
       "  <tbody>\n",
       "    <tr>\n",
       "      <th>0</th>\n",
       "      <td>1</td>\n",
       "      <td>2010-08-21</td>\n",
       "      <td>7.0</td>\n",
       "      <td>2</td>\n",
       "      <td>1</td>\n",
       "      <td>9.0</td>\n",
       "      <td>2</td>\n",
       "    </tr>\n",
       "    <tr>\n",
       "      <th>1</th>\n",
       "      <td>2</td>\n",
       "      <td>2011-05-26</td>\n",
       "      <td>3.0</td>\n",
       "      <td>4</td>\n",
       "      <td>1</td>\n",
       "      <td>7.0</td>\n",
       "      <td>2</td>\n",
       "    </tr>\n",
       "    <tr>\n",
       "      <th>2</th>\n",
       "      <td>3</td>\n",
       "      <td>2011-06-16</td>\n",
       "      <td>3.0</td>\n",
       "      <td>3</td>\n",
       "      <td>1</td>\n",
       "      <td>6.0</td>\n",
       "      <td>2</td>\n",
       "    </tr>\n",
       "    <tr>\n",
       "      <th>3</th>\n",
       "      <td>4</td>\n",
       "      <td>2012-08-26</td>\n",
       "      <td>1.0</td>\n",
       "      <td>2</td>\n",
       "      <td>3</td>\n",
       "      <td>3.0</td>\n",
       "      <td>6</td>\n",
       "    </tr>\n",
       "    <tr>\n",
       "      <th>4</th>\n",
       "      <td>5</td>\n",
       "      <td>2013-06-06</td>\n",
       "      <td>2.0</td>\n",
       "      <td>4</td>\n",
       "      <td>1</td>\n",
       "      <td>6.0</td>\n",
       "      <td>2</td>\n",
       "    </tr>\n",
       "    <tr>\n",
       "      <th>5</th>\n",
       "      <td>6</td>\n",
       "      <td>2013-12-23</td>\n",
       "      <td>2.0</td>\n",
       "      <td>5</td>\n",
       "      <td>6</td>\n",
       "      <td>7.0</td>\n",
       "      <td>12</td>\n",
       "    </tr>\n",
       "    <tr>\n",
       "      <th>6</th>\n",
       "      <td>7</td>\n",
       "      <td>2013-12-30</td>\n",
       "      <td>3.0</td>\n",
       "      <td>4</td>\n",
       "      <td>1</td>\n",
       "      <td>7.0</td>\n",
       "      <td>2</td>\n",
       "    </tr>\n",
       "    <tr>\n",
       "      <th>7</th>\n",
       "      <td>8</td>\n",
       "      <td>2014-04-24</td>\n",
       "      <td>NaN</td>\n",
       "      <td>2</td>\n",
       "      <td>3</td>\n",
       "      <td>NaN</td>\n",
       "      <td>6</td>\n",
       "    </tr>\n",
       "    <tr>\n",
       "      <th>8</th>\n",
       "      <td>9</td>\n",
       "      <td>2015-04-24</td>\n",
       "      <td>7.0</td>\n",
       "      <td>4</td>\n",
       "      <td>3</td>\n",
       "      <td>11.0</td>\n",
       "      <td>6</td>\n",
       "    </tr>\n",
       "    <tr>\n",
       "      <th>9</th>\n",
       "      <td>10</td>\n",
       "      <td>2016-05-08</td>\n",
       "      <td>3.0</td>\n",
       "      <td>4</td>\n",
       "      <td>4</td>\n",
       "      <td>7.0</td>\n",
       "      <td>8</td>\n",
       "    </tr>\n",
       "  </tbody>\n",
       "</table>\n",
       "</div>"
      ],
      "text/plain": [
       "   TransactionID TransactionDate  UserID  ProductID  Quantity   Foo  NewColumn\n",
       "0              1      2010-08-21     7.0          2         1   9.0          2\n",
       "1              2      2011-05-26     3.0          4         1   7.0          2\n",
       "2              3      2011-06-16     3.0          3         1   6.0          2\n",
       "3              4      2012-08-26     1.0          2         3   3.0          6\n",
       "4              5      2013-06-06     2.0          4         1   6.0          2\n",
       "5              6      2013-12-23     2.0          5         6   7.0         12\n",
       "6              7      2013-12-30     3.0          4         1   7.0          2\n",
       "7              8      2014-04-24     NaN          2         3   NaN          6\n",
       "8              9      2015-04-24     7.0          4         3  11.0          6\n",
       "9             10      2016-05-08     3.0          4         4   7.0          8"
      ]
     },
     "execution_count": 65,
     "metadata": {},
     "output_type": "execute_result"
    }
   ],
   "source": [
    "df\n"
   ]
  },
  {
   "cell_type": "code",
   "execution_count": 66,
   "id": "1851f085-8606-447b-8d67-77d9f2b134b9",
   "metadata": {},
   "outputs": [
    {
     "name": "stdout",
     "output_type": "stream",
     "text": [
      "shape of the dataframe(rows,columns) (10, 7)\n"
     ]
    }
   ],
   "source": [
    "print(\"shape of the dataframe(rows,columns)\",df.shape)"
   ]
  },
  {
   "cell_type": "code",
   "execution_count": 67,
   "id": "82abf55a-f0a4-4d7a-940f-0293ece07cb2",
   "metadata": {},
   "outputs": [
    {
     "name": "stdout",
     "output_type": "stream",
     "text": [
      "10\n"
     ]
    }
   ],
   "source": [
    "print(len(df))"
   ]
  },
  {
   "cell_type": "code",
   "execution_count": 70,
   "id": "7057e566-b986-465b-a8b2-f886db0f77a1",
   "metadata": {},
   "outputs": [
    {
     "name": "stdout",
     "output_type": "stream",
     "text": [
      "7\n"
     ]
    }
   ],
   "source": [
    "print(len(df.columns))"
   ]
  },
  {
   "cell_type": "code",
   "execution_count": 71,
   "id": "d90cd6c1-254f-412e-8a3d-f66a5337e516",
   "metadata": {},
   "outputs": [
    {
     "data": {
      "text/plain": [
       "['TransactionID',\n",
       " 'TransactionDate',\n",
       " 'UserID',\n",
       " 'ProductID',\n",
       " 'Quantity',\n",
       " 'Foo',\n",
       " 'NewColumn']"
      ]
     },
     "execution_count": 71,
     "metadata": {},
     "output_type": "execute_result"
    }
   ],
   "source": [
    "list(df.columns)"
   ]
  },
  {
   "cell_type": "code",
   "execution_count": 4,
   "id": "c31d8db5-6b74-4d6f-9044-578190fbd375",
   "metadata": {},
   "outputs": [
    {
     "data": {
      "text/plain": [
       "[0, 1, 2, 3, 4, 5, 6, 7, 8, 9]"
      ]
     },
     "execution_count": 4,
     "metadata": {},
     "output_type": "execute_result"
    }
   ],
   "source": [
    "list(df.index.tolist())"
   ]
  },
  {
   "cell_type": "code",
   "execution_count": 74,
   "id": "c3bf8ce7-a690-4219-bc05-bad7413d2cf6",
   "metadata": {},
   "outputs": [
    {
     "name": "stdout",
     "output_type": "stream",
     "text": [
      "   TransactionID TransactionDate  UserID  ProductID  Quantity   Foo  NewColumn\n",
      "0              1      2010-08-21     7.0          2         1   9.0          2\n",
      "1              2      2011-05-26     3.0          4         1   7.0          2\n",
      "2              3      2011-06-16     3.0          3         1   6.0          2\n",
      "3              4      2012-08-26     1.0          2         3   3.0          6\n",
      "4              5      2013-06-06     2.0          4         1   6.0          2\n",
      "5              6      2013-12-23     2.0          5         6   7.0         12\n",
      "6              7      2013-12-30     3.0          4         1   7.0          2\n",
      "7              8      2014-04-24     NaN          2         3   NaN          6\n",
      "8              9      2015-04-24     7.0          4         3  11.0          6\n",
      "9             10      2016-05-08     3.0          4         4   7.0          8\n"
     ]
    }
   ],
   "source": [
    "print(df.head(10))"
   ]
  },
  {
   "cell_type": "code",
   "execution_count": 75,
   "id": "dc8f2c25-6e49-48ff-be3b-4590a95a7928",
   "metadata": {},
   "outputs": [
    {
     "name": "stdout",
     "output_type": "stream",
     "text": [
      "   TransactionID TransactionDate  UserID  ProductID  Quant\n",
      "0              1      2010-08-21     7.0          2      1\n",
      "1              2      2011-05-26     3.0          4      1\n",
      "2              3      2011-06-16     3.0          3      1\n",
      "3              4      2012-08-26     1.0          2      3\n",
      "4              5      2013-06-06     2.0          4      1\n"
     ]
    }
   ],
   "source": [
    "import pandas as pd\n",
    "df=pd.read_csv('/home/user/Downloads/transactions.csv')\n",
    "df.rename(columns={\"Quantity\":\"Quant\"},inplace=True)\n",
    "print(df.head())"
   ]
  },
  {
   "cell_type": "code",
   "execution_count": 76,
   "id": "d3bc528d-3c46-45b7-9092-41be4c27d0e0",
   "metadata": {},
   "outputs": [
    {
     "name": "stdout",
     "output_type": "stream",
     "text": [
      "   TransactionID TransactionDate  UID  PID  Quantity\n",
      "0              1      2010-08-21  7.0    2         1\n",
      "1              2      2011-05-26  3.0    4         1\n",
      "2              3      2011-06-16  3.0    3         1\n",
      "3              4      2012-08-26  1.0    2         3\n",
      "4              5      2013-06-06  2.0    4         1\n"
     ]
    }
   ],
   "source": [
    "import pandas as pd\n",
    "df=pd.read_csv('/home/user/Downloads/transactions.csv')\n",
    "df.rename(columns={\"ProductID\":\"PID\",\"UserID\":\"UID\"},inplace=True)\n",
    "print(df.head())"
   ]
  },
  {
   "cell_type": "code",
   "execution_count": 82,
   "id": "ee170dd8-21bd-4fe0-a627-26da6278ebd9",
   "metadata": {},
   "outputs": [
    {
     "name": "stdout",
     "output_type": "stream",
     "text": [
      "   TransactionID TransactionDate  UserID  ProductID  Quantity\n",
      "6              7      2013-12-30     3.0          4         1\n",
      "4              5      2013-06-06     2.0          4         1\n",
      "2              3      2011-06-16     3.0          3         1\n",
      "1              2      2011-05-26     3.0          4         1\n",
      "0              1      2010-08-21     7.0          2         1\n"
     ]
    }
   ],
   "source": [
    "import pandas as pd\n",
    "df=pd.read_csv('/home/user/Downloads/transactions.csv')\n",
    "df_sorted=df.sort_values(by=[\"Quantity\",\"TransactionID\"],\n",
    "                         ascending=[True,False])\n",
    "print(df_sorted.head())"
   ]
  },
  {
   "cell_type": "code",
   "execution_count": 5,
   "id": "3c3310ea-1546-4f4e-bc93-670e30c35db0",
   "metadata": {},
   "outputs": [
    {
     "name": "stdout",
     "output_type": "stream",
     "text": [
      "   ProductID  Quant TransactionDate  TransactionID  UserID\n",
      "0          2      1      2010-08-21              1     7.0\n",
      "1          4      1      2011-05-26              2     3.0\n",
      "2          3      1      2011-06-16              3     3.0\n",
      "3          2      3      2012-08-26              4     1.0\n",
      "4          4      1      2013-06-06              5     2.0\n"
     ]
    }
   ],
   "source": [
    "df=df[['ProductID','Quant','TransactionDate','TransactionID','UserID']]\n",
    "print(df.head())"
   ]
  },
  {
   "cell_type": "code",
   "execution_count": 8,
   "id": "c4ad2ced-23fe-45de-88db-eea45c927c4e",
   "metadata": {},
   "outputs": [
    {
     "name": "stdout",
     "output_type": "stream",
     "text": [
      "   UserID  ProductID  Quant TransactionDate  TransactionID\n",
      "0     7.0          2      1      2010-08-21              1\n",
      "1     3.0          4      1      2011-05-26              2\n",
      "2     3.0          3      1      2011-06-16              3\n",
      "3     1.0          2      3      2012-08-26              4\n",
      "4     2.0          4      1      2013-06-06              5\n"
     ]
    }
   ],
   "source": [
    "df=df[['UserID','ProductID','Quant','TransactionDate','TransactionID']]\n",
    "print(df.head())"
   ]
  },
  {
   "cell_type": "code",
   "execution_count": 87,
   "id": "bbcd98cb-2b94-4bd1-a1d9-c01117622b54",
   "metadata": {},
   "outputs": [
    {
     "name": "stderr",
     "output_type": "stream",
     "text": [
      "/tmp/ipykernel_4427/1346479352.py:1: FutureWarning: unique with argument that is not not a Series, Index, ExtensionArray, or np.ndarray is deprecated and will raise in a future version.\n",
      "  df[pd.unique(['ProductID']+df.columns.values.tolist()).tolist()]\n"
     ]
    },
    {
     "data": {
      "text/html": [
       "<div>\n",
       "<style scoped>\n",
       "    .dataframe tbody tr th:only-of-type {\n",
       "        vertical-align: middle;\n",
       "    }\n",
       "\n",
       "    .dataframe tbody tr th {\n",
       "        vertical-align: top;\n",
       "    }\n",
       "\n",
       "    .dataframe thead th {\n",
       "        text-align: right;\n",
       "    }\n",
       "</style>\n",
       "<table border=\"1\" class=\"dataframe\">\n",
       "  <thead>\n",
       "    <tr style=\"text-align: right;\">\n",
       "      <th></th>\n",
       "      <th>TransactionID</th>\n",
       "      <th>TransactionDate</th>\n",
       "      <th>UserID</th>\n",
       "      <th>ProductID</th>\n",
       "      <th>Quantity</th>\n",
       "    </tr>\n",
       "  </thead>\n",
       "  <tbody>\n",
       "    <tr>\n",
       "      <th>0</th>\n",
       "      <td>1</td>\n",
       "      <td>2010-08-21</td>\n",
       "      <td>7.0</td>\n",
       "      <td>2</td>\n",
       "      <td>1</td>\n",
       "    </tr>\n",
       "    <tr>\n",
       "      <th>1</th>\n",
       "      <td>2</td>\n",
       "      <td>2011-05-26</td>\n",
       "      <td>3.0</td>\n",
       "      <td>4</td>\n",
       "      <td>1</td>\n",
       "    </tr>\n",
       "    <tr>\n",
       "      <th>2</th>\n",
       "      <td>3</td>\n",
       "      <td>2011-06-16</td>\n",
       "      <td>3.0</td>\n",
       "      <td>3</td>\n",
       "      <td>1</td>\n",
       "    </tr>\n",
       "    <tr>\n",
       "      <th>3</th>\n",
       "      <td>4</td>\n",
       "      <td>2012-08-26</td>\n",
       "      <td>1.0</td>\n",
       "      <td>2</td>\n",
       "      <td>3</td>\n",
       "    </tr>\n",
       "    <tr>\n",
       "      <th>4</th>\n",
       "      <td>5</td>\n",
       "      <td>2013-06-06</td>\n",
       "      <td>2.0</td>\n",
       "      <td>4</td>\n",
       "      <td>1</td>\n",
       "    </tr>\n",
       "    <tr>\n",
       "      <th>5</th>\n",
       "      <td>6</td>\n",
       "      <td>2013-12-23</td>\n",
       "      <td>2.0</td>\n",
       "      <td>5</td>\n",
       "      <td>6</td>\n",
       "    </tr>\n",
       "    <tr>\n",
       "      <th>6</th>\n",
       "      <td>7</td>\n",
       "      <td>2013-12-30</td>\n",
       "      <td>3.0</td>\n",
       "      <td>4</td>\n",
       "      <td>1</td>\n",
       "    </tr>\n",
       "    <tr>\n",
       "      <th>7</th>\n",
       "      <td>8</td>\n",
       "      <td>2014-04-24</td>\n",
       "      <td>NaN</td>\n",
       "      <td>2</td>\n",
       "      <td>3</td>\n",
       "    </tr>\n",
       "    <tr>\n",
       "      <th>8</th>\n",
       "      <td>9</td>\n",
       "      <td>2015-04-24</td>\n",
       "      <td>7.0</td>\n",
       "      <td>4</td>\n",
       "      <td>3</td>\n",
       "    </tr>\n",
       "    <tr>\n",
       "      <th>9</th>\n",
       "      <td>10</td>\n",
       "      <td>2016-05-08</td>\n",
       "      <td>3.0</td>\n",
       "      <td>4</td>\n",
       "      <td>4</td>\n",
       "    </tr>\n",
       "  </tbody>\n",
       "</table>\n",
       "</div>"
      ],
      "text/plain": [
       "   TransactionID TransactionDate  UserID  ProductID  Quantity\n",
       "0              1      2010-08-21     7.0          2         1\n",
       "1              2      2011-05-26     3.0          4         1\n",
       "2              3      2011-06-16     3.0          3         1\n",
       "3              4      2012-08-26     1.0          2         3\n",
       "4              5      2013-06-06     2.0          4         1\n",
       "5              6      2013-12-23     2.0          5         6\n",
       "6              7      2013-12-30     3.0          4         1\n",
       "7              8      2014-04-24     NaN          2         3\n",
       "8              9      2015-04-24     7.0          4         3\n",
       "9             10      2016-05-08     3.0          4         4"
      ]
     },
     "execution_count": 87,
     "metadata": {},
     "output_type": "execute_result"
    }
   ],
   "source": [
    "df[pd.unique(['ProductID']+df.columns.values.tolist()).tolist()]\n",
    "df"
   ]
  },
  {
   "cell_type": "code",
   "execution_count": 91,
   "id": "e005d2e3-6edf-41b2-bdc4-a1964fd5f6a4",
   "metadata": {},
   "outputs": [
    {
     "name": "stderr",
     "output_type": "stream",
     "text": [
      "/tmp/ipykernel_4427/3251981379.py:1: FutureWarning: unique with argument that is not not a Series, Index, ExtensionArray, or np.ndarray is deprecated and will raise in a future version.\n",
      "  cols = pd.unique(['ProductID']+df.columns.values.tolist())\n"
     ]
    }
   ],
   "source": [
    "cols = pd.unique(['ProductID']+df.columns.values.tolist())"
   ]
  },
  {
   "cell_type": "code",
   "execution_count": 92,
   "id": "3bb58f58-4208-4569-995a-49f27d06bfce",
   "metadata": {},
   "outputs": [
    {
     "data": {
      "text/html": [
       "<div>\n",
       "<style scoped>\n",
       "    .dataframe tbody tr th:only-of-type {\n",
       "        vertical-align: middle;\n",
       "    }\n",
       "\n",
       "    .dataframe tbody tr th {\n",
       "        vertical-align: top;\n",
       "    }\n",
       "\n",
       "    .dataframe thead th {\n",
       "        text-align: right;\n",
       "    }\n",
       "</style>\n",
       "<table border=\"1\" class=\"dataframe\">\n",
       "  <thead>\n",
       "    <tr style=\"text-align: right;\">\n",
       "      <th></th>\n",
       "      <th>ProductID</th>\n",
       "      <th>TransactionID</th>\n",
       "      <th>TransactionDate</th>\n",
       "      <th>UserID</th>\n",
       "      <th>Quantity</th>\n",
       "    </tr>\n",
       "  </thead>\n",
       "  <tbody>\n",
       "    <tr>\n",
       "      <th>0</th>\n",
       "      <td>2</td>\n",
       "      <td>1</td>\n",
       "      <td>2010-08-21</td>\n",
       "      <td>7.0</td>\n",
       "      <td>1</td>\n",
       "    </tr>\n",
       "    <tr>\n",
       "      <th>1</th>\n",
       "      <td>4</td>\n",
       "      <td>2</td>\n",
       "      <td>2011-05-26</td>\n",
       "      <td>3.0</td>\n",
       "      <td>1</td>\n",
       "    </tr>\n",
       "    <tr>\n",
       "      <th>2</th>\n",
       "      <td>3</td>\n",
       "      <td>3</td>\n",
       "      <td>2011-06-16</td>\n",
       "      <td>3.0</td>\n",
       "      <td>1</td>\n",
       "    </tr>\n",
       "    <tr>\n",
       "      <th>3</th>\n",
       "      <td>2</td>\n",
       "      <td>4</td>\n",
       "      <td>2012-08-26</td>\n",
       "      <td>1.0</td>\n",
       "      <td>3</td>\n",
       "    </tr>\n",
       "    <tr>\n",
       "      <th>4</th>\n",
       "      <td>4</td>\n",
       "      <td>5</td>\n",
       "      <td>2013-06-06</td>\n",
       "      <td>2.0</td>\n",
       "      <td>1</td>\n",
       "    </tr>\n",
       "    <tr>\n",
       "      <th>5</th>\n",
       "      <td>5</td>\n",
       "      <td>6</td>\n",
       "      <td>2013-12-23</td>\n",
       "      <td>2.0</td>\n",
       "      <td>6</td>\n",
       "    </tr>\n",
       "    <tr>\n",
       "      <th>6</th>\n",
       "      <td>4</td>\n",
       "      <td>7</td>\n",
       "      <td>2013-12-30</td>\n",
       "      <td>3.0</td>\n",
       "      <td>1</td>\n",
       "    </tr>\n",
       "    <tr>\n",
       "      <th>7</th>\n",
       "      <td>2</td>\n",
       "      <td>8</td>\n",
       "      <td>2014-04-24</td>\n",
       "      <td>NaN</td>\n",
       "      <td>3</td>\n",
       "    </tr>\n",
       "    <tr>\n",
       "      <th>8</th>\n",
       "      <td>4</td>\n",
       "      <td>9</td>\n",
       "      <td>2015-04-24</td>\n",
       "      <td>7.0</td>\n",
       "      <td>3</td>\n",
       "    </tr>\n",
       "    <tr>\n",
       "      <th>9</th>\n",
       "      <td>4</td>\n",
       "      <td>10</td>\n",
       "      <td>2016-05-08</td>\n",
       "      <td>3.0</td>\n",
       "      <td>4</td>\n",
       "    </tr>\n",
       "  </tbody>\n",
       "</table>\n",
       "</div>"
      ],
      "text/plain": [
       "   ProductID  TransactionID TransactionDate  UserID  Quantity\n",
       "0          2              1      2010-08-21     7.0         1\n",
       "1          4              2      2011-05-26     3.0         1\n",
       "2          3              3      2011-06-16     3.0         1\n",
       "3          2              4      2012-08-26     1.0         3\n",
       "4          4              5      2013-06-06     2.0         1\n",
       "5          5              6      2013-12-23     2.0         6\n",
       "6          4              7      2013-12-30     3.0         1\n",
       "7          2              8      2014-04-24     NaN         3\n",
       "8          4              9      2015-04-24     7.0         3\n",
       "9          4             10      2016-05-08     3.0         4"
      ]
     },
     "execution_count": 92,
     "metadata": {},
     "output_type": "execute_result"
    }
   ],
   "source": [
    "df[cols]"
   ]
  },
  {
   "cell_type": "code",
   "execution_count": 95,
   "id": "97240595-54d2-45d6-ad9e-472df9e69c90",
   "metadata": {},
   "outputs": [
    {
     "name": "stderr",
     "output_type": "stream",
     "text": [
      "/tmp/ipykernel_4427/2180753589.py:1: FutureWarning: unique with argument that is not not a Series, Index, ExtensionArray, or np.ndarray is deprecated and will raise in a future version.\n",
      "  cols=pd.unique(['ProductID','Quantity', 'TransactionDate', 'TransactionID', 'UserID']+df.columns.values.tolist())\n"
     ]
    }
   ],
   "source": [
    "cols=pd.unique(['ProductID','Quantity', 'TransactionDate', 'TransactionID', 'UserID']+df.columns.values.tolist())"
   ]
  },
  {
   "cell_type": "code",
   "execution_count": 96,
   "id": "19df15e1-143d-4d54-a42e-fbe9db7af169",
   "metadata": {},
   "outputs": [
    {
     "data": {
      "text/html": [
       "<div>\n",
       "<style scoped>\n",
       "    .dataframe tbody tr th:only-of-type {\n",
       "        vertical-align: middle;\n",
       "    }\n",
       "\n",
       "    .dataframe tbody tr th {\n",
       "        vertical-align: top;\n",
       "    }\n",
       "\n",
       "    .dataframe thead th {\n",
       "        text-align: right;\n",
       "    }\n",
       "</style>\n",
       "<table border=\"1\" class=\"dataframe\">\n",
       "  <thead>\n",
       "    <tr style=\"text-align: right;\">\n",
       "      <th></th>\n",
       "      <th>ProductID</th>\n",
       "      <th>Quantity</th>\n",
       "      <th>TransactionDate</th>\n",
       "      <th>TransactionID</th>\n",
       "      <th>UserID</th>\n",
       "    </tr>\n",
       "  </thead>\n",
       "  <tbody>\n",
       "    <tr>\n",
       "      <th>0</th>\n",
       "      <td>2</td>\n",
       "      <td>1</td>\n",
       "      <td>2010-08-21</td>\n",
       "      <td>1</td>\n",
       "      <td>7.0</td>\n",
       "    </tr>\n",
       "    <tr>\n",
       "      <th>1</th>\n",
       "      <td>4</td>\n",
       "      <td>1</td>\n",
       "      <td>2011-05-26</td>\n",
       "      <td>2</td>\n",
       "      <td>3.0</td>\n",
       "    </tr>\n",
       "    <tr>\n",
       "      <th>2</th>\n",
       "      <td>3</td>\n",
       "      <td>1</td>\n",
       "      <td>2011-06-16</td>\n",
       "      <td>3</td>\n",
       "      <td>3.0</td>\n",
       "    </tr>\n",
       "    <tr>\n",
       "      <th>3</th>\n",
       "      <td>2</td>\n",
       "      <td>3</td>\n",
       "      <td>2012-08-26</td>\n",
       "      <td>4</td>\n",
       "      <td>1.0</td>\n",
       "    </tr>\n",
       "    <tr>\n",
       "      <th>4</th>\n",
       "      <td>4</td>\n",
       "      <td>1</td>\n",
       "      <td>2013-06-06</td>\n",
       "      <td>5</td>\n",
       "      <td>2.0</td>\n",
       "    </tr>\n",
       "    <tr>\n",
       "      <th>5</th>\n",
       "      <td>5</td>\n",
       "      <td>6</td>\n",
       "      <td>2013-12-23</td>\n",
       "      <td>6</td>\n",
       "      <td>2.0</td>\n",
       "    </tr>\n",
       "    <tr>\n",
       "      <th>6</th>\n",
       "      <td>4</td>\n",
       "      <td>1</td>\n",
       "      <td>2013-12-30</td>\n",
       "      <td>7</td>\n",
       "      <td>3.0</td>\n",
       "    </tr>\n",
       "    <tr>\n",
       "      <th>7</th>\n",
       "      <td>2</td>\n",
       "      <td>3</td>\n",
       "      <td>2014-04-24</td>\n",
       "      <td>8</td>\n",
       "      <td>NaN</td>\n",
       "    </tr>\n",
       "    <tr>\n",
       "      <th>8</th>\n",
       "      <td>4</td>\n",
       "      <td>3</td>\n",
       "      <td>2015-04-24</td>\n",
       "      <td>9</td>\n",
       "      <td>7.0</td>\n",
       "    </tr>\n",
       "    <tr>\n",
       "      <th>9</th>\n",
       "      <td>4</td>\n",
       "      <td>4</td>\n",
       "      <td>2016-05-08</td>\n",
       "      <td>10</td>\n",
       "      <td>3.0</td>\n",
       "    </tr>\n",
       "  </tbody>\n",
       "</table>\n",
       "</div>"
      ],
      "text/plain": [
       "   ProductID  Quantity TransactionDate  TransactionID  UserID\n",
       "0          2         1      2010-08-21              1     7.0\n",
       "1          4         1      2011-05-26              2     3.0\n",
       "2          3         1      2011-06-16              3     3.0\n",
       "3          2         3      2012-08-26              4     1.0\n",
       "4          4         1      2013-06-06              5     2.0\n",
       "5          5         6      2013-12-23              6     2.0\n",
       "6          4         1      2013-12-30              7     3.0\n",
       "7          2         3      2014-04-24              8     NaN\n",
       "8          4         3      2015-04-24              9     7.0\n",
       "9          4         4      2016-05-08             10     3.0"
      ]
     },
     "execution_count": 96,
     "metadata": {},
     "output_type": "execute_result"
    }
   ],
   "source": [
    "df[cols]"
   ]
  },
  {
   "cell_type": "code",
   "execution_count": 97,
   "id": "f8911e0f-5062-4548-a121-9ba0d4c04858",
   "metadata": {},
   "outputs": [
    {
     "data": {
      "text/html": [
       "<div>\n",
       "<style scoped>\n",
       "    .dataframe tbody tr th:only-of-type {\n",
       "        vertical-align: middle;\n",
       "    }\n",
       "\n",
       "    .dataframe tbody tr th {\n",
       "        vertical-align: top;\n",
       "    }\n",
       "\n",
       "    .dataframe thead th {\n",
       "        text-align: right;\n",
       "    }\n",
       "</style>\n",
       "<table border=\"1\" class=\"dataframe\">\n",
       "  <thead>\n",
       "    <tr style=\"text-align: right;\">\n",
       "      <th></th>\n",
       "      <th>TransactionID</th>\n",
       "      <th>TransactionDate</th>\n",
       "      <th>UserID</th>\n",
       "      <th>ProductID</th>\n",
       "      <th>Quantity</th>\n",
       "    </tr>\n",
       "  </thead>\n",
       "  <tbody>\n",
       "    <tr>\n",
       "      <th>0</th>\n",
       "      <td>1</td>\n",
       "      <td>2010-08-21</td>\n",
       "      <td>7.0</td>\n",
       "      <td>2</td>\n",
       "      <td>1</td>\n",
       "    </tr>\n",
       "    <tr>\n",
       "      <th>1</th>\n",
       "      <td>2</td>\n",
       "      <td>2011-05-26</td>\n",
       "      <td>3.0</td>\n",
       "      <td>4</td>\n",
       "      <td>1</td>\n",
       "    </tr>\n",
       "    <tr>\n",
       "      <th>2</th>\n",
       "      <td>3</td>\n",
       "      <td>2011-06-16</td>\n",
       "      <td>3.0</td>\n",
       "      <td>3</td>\n",
       "      <td>1</td>\n",
       "    </tr>\n",
       "    <tr>\n",
       "      <th>3</th>\n",
       "      <td>4</td>\n",
       "      <td>2012-08-26</td>\n",
       "      <td>1.0</td>\n",
       "      <td>2</td>\n",
       "      <td>3</td>\n",
       "    </tr>\n",
       "    <tr>\n",
       "      <th>4</th>\n",
       "      <td>5</td>\n",
       "      <td>2013-06-06</td>\n",
       "      <td>2.0</td>\n",
       "      <td>4</td>\n",
       "      <td>1</td>\n",
       "    </tr>\n",
       "    <tr>\n",
       "      <th>5</th>\n",
       "      <td>6</td>\n",
       "      <td>2013-12-23</td>\n",
       "      <td>2.0</td>\n",
       "      <td>5</td>\n",
       "      <td>6</td>\n",
       "    </tr>\n",
       "    <tr>\n",
       "      <th>6</th>\n",
       "      <td>7</td>\n",
       "      <td>2013-12-30</td>\n",
       "      <td>3.0</td>\n",
       "      <td>4</td>\n",
       "      <td>1</td>\n",
       "    </tr>\n",
       "    <tr>\n",
       "      <th>7</th>\n",
       "      <td>8</td>\n",
       "      <td>2014-04-24</td>\n",
       "      <td>NaN</td>\n",
       "      <td>2</td>\n",
       "      <td>3</td>\n",
       "    </tr>\n",
       "    <tr>\n",
       "      <th>8</th>\n",
       "      <td>9</td>\n",
       "      <td>2015-04-24</td>\n",
       "      <td>7.0</td>\n",
       "      <td>4</td>\n",
       "      <td>3</td>\n",
       "    </tr>\n",
       "    <tr>\n",
       "      <th>9</th>\n",
       "      <td>10</td>\n",
       "      <td>2016-05-08</td>\n",
       "      <td>3.0</td>\n",
       "      <td>4</td>\n",
       "      <td>4</td>\n",
       "    </tr>\n",
       "  </tbody>\n",
       "</table>\n",
       "</div>"
      ],
      "text/plain": [
       "   TransactionID TransactionDate  UserID  ProductID  Quantity\n",
       "0              1      2010-08-21     7.0          2         1\n",
       "1              2      2011-05-26     3.0          4         1\n",
       "2              3      2011-06-16     3.0          3         1\n",
       "3              4      2012-08-26     1.0          2         3\n",
       "4              5      2013-06-06     2.0          4         1\n",
       "5              6      2013-12-23     2.0          5         6\n",
       "6              7      2013-12-30     3.0          4         1\n",
       "7              8      2014-04-24     NaN          2         3\n",
       "8              9      2015-04-24     7.0          4         3\n",
       "9             10      2016-05-08     3.0          4         4"
      ]
     },
     "execution_count": 97,
     "metadata": {},
     "output_type": "execute_result"
    }
   ],
   "source": [
    "df"
   ]
  },
  {
   "cell_type": "code",
   "execution_count": 99,
   "id": "0d466f47-4b4a-494d-b831-678ac34f4dee",
   "metadata": {},
   "outputs": [
    {
     "name": "stderr",
     "output_type": "stream",
     "text": [
      "/tmp/ipykernel_4427/2180753589.py:1: FutureWarning: unique with argument that is not not a Series, Index, ExtensionArray, or np.ndarray is deprecated and will raise in a future version.\n",
      "  cols=pd.unique(['ProductID','Quantity', 'TransactionDate', 'TransactionID', 'UserID']+df.columns.values.tolist())\n"
     ]
    }
   ],
   "source": [
    "cols=pd.unique(['ProductID','Quantity', 'TransactionDate', 'TransactionID', 'UserID']+df.columns.values.tolist())"
   ]
  },
  {
   "cell_type": "code",
   "execution_count": 100,
   "id": "f071c92c-681d-42ff-933c-b7ce90305342",
   "metadata": {},
   "outputs": [
    {
     "data": {
      "text/html": [
       "<div>\n",
       "<style scoped>\n",
       "    .dataframe tbody tr th:only-of-type {\n",
       "        vertical-align: middle;\n",
       "    }\n",
       "\n",
       "    .dataframe tbody tr th {\n",
       "        vertical-align: top;\n",
       "    }\n",
       "\n",
       "    .dataframe thead th {\n",
       "        text-align: right;\n",
       "    }\n",
       "</style>\n",
       "<table border=\"1\" class=\"dataframe\">\n",
       "  <thead>\n",
       "    <tr style=\"text-align: right;\">\n",
       "      <th></th>\n",
       "      <th>ProductID</th>\n",
       "      <th>Quantity</th>\n",
       "      <th>TransactionDate</th>\n",
       "      <th>TransactionID</th>\n",
       "      <th>UserID</th>\n",
       "    </tr>\n",
       "  </thead>\n",
       "  <tbody>\n",
       "    <tr>\n",
       "      <th>0</th>\n",
       "      <td>2</td>\n",
       "      <td>1</td>\n",
       "      <td>2010-08-21</td>\n",
       "      <td>1</td>\n",
       "      <td>7.0</td>\n",
       "    </tr>\n",
       "    <tr>\n",
       "      <th>1</th>\n",
       "      <td>4</td>\n",
       "      <td>1</td>\n",
       "      <td>2011-05-26</td>\n",
       "      <td>2</td>\n",
       "      <td>3.0</td>\n",
       "    </tr>\n",
       "    <tr>\n",
       "      <th>2</th>\n",
       "      <td>3</td>\n",
       "      <td>1</td>\n",
       "      <td>2011-06-16</td>\n",
       "      <td>3</td>\n",
       "      <td>3.0</td>\n",
       "    </tr>\n",
       "    <tr>\n",
       "      <th>3</th>\n",
       "      <td>2</td>\n",
       "      <td>3</td>\n",
       "      <td>2012-08-26</td>\n",
       "      <td>4</td>\n",
       "      <td>1.0</td>\n",
       "    </tr>\n",
       "    <tr>\n",
       "      <th>4</th>\n",
       "      <td>4</td>\n",
       "      <td>1</td>\n",
       "      <td>2013-06-06</td>\n",
       "      <td>5</td>\n",
       "      <td>2.0</td>\n",
       "    </tr>\n",
       "    <tr>\n",
       "      <th>5</th>\n",
       "      <td>5</td>\n",
       "      <td>6</td>\n",
       "      <td>2013-12-23</td>\n",
       "      <td>6</td>\n",
       "      <td>2.0</td>\n",
       "    </tr>\n",
       "    <tr>\n",
       "      <th>6</th>\n",
       "      <td>4</td>\n",
       "      <td>1</td>\n",
       "      <td>2013-12-30</td>\n",
       "      <td>7</td>\n",
       "      <td>3.0</td>\n",
       "    </tr>\n",
       "    <tr>\n",
       "      <th>7</th>\n",
       "      <td>2</td>\n",
       "      <td>3</td>\n",
       "      <td>2014-04-24</td>\n",
       "      <td>8</td>\n",
       "      <td>NaN</td>\n",
       "    </tr>\n",
       "    <tr>\n",
       "      <th>8</th>\n",
       "      <td>4</td>\n",
       "      <td>3</td>\n",
       "      <td>2015-04-24</td>\n",
       "      <td>9</td>\n",
       "      <td>7.0</td>\n",
       "    </tr>\n",
       "    <tr>\n",
       "      <th>9</th>\n",
       "      <td>4</td>\n",
       "      <td>4</td>\n",
       "      <td>2016-05-08</td>\n",
       "      <td>10</td>\n",
       "      <td>3.0</td>\n",
       "    </tr>\n",
       "  </tbody>\n",
       "</table>\n",
       "</div>"
      ],
      "text/plain": [
       "   ProductID  Quantity TransactionDate  TransactionID  UserID\n",
       "0          2         1      2010-08-21              1     7.0\n",
       "1          4         1      2011-05-26              2     3.0\n",
       "2          3         1      2011-06-16              3     3.0\n",
       "3          2         3      2012-08-26              4     1.0\n",
       "4          4         1      2013-06-06              5     2.0\n",
       "5          5         6      2013-12-23              6     2.0\n",
       "6          4         1      2013-12-30              7     3.0\n",
       "7          2         3      2014-04-24              8     NaN\n",
       "8          4         3      2015-04-24              9     7.0\n",
       "9          4         4      2016-05-08             10     3.0"
      ]
     },
     "execution_count": 100,
     "metadata": {},
     "output_type": "execute_result"
    }
   ],
   "source": [
    "df[cols]"
   ]
  },
  {
   "cell_type": "code",
   "execution_count": 101,
   "id": "7438e347-69e3-49ae-a601-08e623e924c5",
   "metadata": {},
   "outputs": [
    {
     "name": "stderr",
     "output_type": "stream",
     "text": [
      "/tmp/ipykernel_4427/3014160616.py:1: FutureWarning: unique with argument that is not not a Series, Index, ExtensionArray, or np.ndarray is deprecated and will raise in a future version.\n",
      "  cols = pd.unique(['UserID']+df.columns.values.tolist())\n"
     ]
    }
   ],
   "source": [
    "cols = pd.unique(['UserID']+df.columns.values.tolist())"
   ]
  },
  {
   "cell_type": "code",
   "execution_count": 102,
   "id": "03340fb8-e0c0-491d-8358-064068f1bb4c",
   "metadata": {},
   "outputs": [
    {
     "data": {
      "text/html": [
       "<div>\n",
       "<style scoped>\n",
       "    .dataframe tbody tr th:only-of-type {\n",
       "        vertical-align: middle;\n",
       "    }\n",
       "\n",
       "    .dataframe tbody tr th {\n",
       "        vertical-align: top;\n",
       "    }\n",
       "\n",
       "    .dataframe thead th {\n",
       "        text-align: right;\n",
       "    }\n",
       "</style>\n",
       "<table border=\"1\" class=\"dataframe\">\n",
       "  <thead>\n",
       "    <tr style=\"text-align: right;\">\n",
       "      <th></th>\n",
       "      <th>UserID</th>\n",
       "      <th>TransactionID</th>\n",
       "      <th>TransactionDate</th>\n",
       "      <th>ProductID</th>\n",
       "      <th>Quantity</th>\n",
       "    </tr>\n",
       "  </thead>\n",
       "  <tbody>\n",
       "    <tr>\n",
       "      <th>0</th>\n",
       "      <td>7.0</td>\n",
       "      <td>1</td>\n",
       "      <td>2010-08-21</td>\n",
       "      <td>2</td>\n",
       "      <td>1</td>\n",
       "    </tr>\n",
       "    <tr>\n",
       "      <th>1</th>\n",
       "      <td>3.0</td>\n",
       "      <td>2</td>\n",
       "      <td>2011-05-26</td>\n",
       "      <td>4</td>\n",
       "      <td>1</td>\n",
       "    </tr>\n",
       "    <tr>\n",
       "      <th>2</th>\n",
       "      <td>3.0</td>\n",
       "      <td>3</td>\n",
       "      <td>2011-06-16</td>\n",
       "      <td>3</td>\n",
       "      <td>1</td>\n",
       "    </tr>\n",
       "    <tr>\n",
       "      <th>3</th>\n",
       "      <td>1.0</td>\n",
       "      <td>4</td>\n",
       "      <td>2012-08-26</td>\n",
       "      <td>2</td>\n",
       "      <td>3</td>\n",
       "    </tr>\n",
       "    <tr>\n",
       "      <th>4</th>\n",
       "      <td>2.0</td>\n",
       "      <td>5</td>\n",
       "      <td>2013-06-06</td>\n",
       "      <td>4</td>\n",
       "      <td>1</td>\n",
       "    </tr>\n",
       "    <tr>\n",
       "      <th>5</th>\n",
       "      <td>2.0</td>\n",
       "      <td>6</td>\n",
       "      <td>2013-12-23</td>\n",
       "      <td>5</td>\n",
       "      <td>6</td>\n",
       "    </tr>\n",
       "    <tr>\n",
       "      <th>6</th>\n",
       "      <td>3.0</td>\n",
       "      <td>7</td>\n",
       "      <td>2013-12-30</td>\n",
       "      <td>4</td>\n",
       "      <td>1</td>\n",
       "    </tr>\n",
       "    <tr>\n",
       "      <th>7</th>\n",
       "      <td>NaN</td>\n",
       "      <td>8</td>\n",
       "      <td>2014-04-24</td>\n",
       "      <td>2</td>\n",
       "      <td>3</td>\n",
       "    </tr>\n",
       "    <tr>\n",
       "      <th>8</th>\n",
       "      <td>7.0</td>\n",
       "      <td>9</td>\n",
       "      <td>2015-04-24</td>\n",
       "      <td>4</td>\n",
       "      <td>3</td>\n",
       "    </tr>\n",
       "    <tr>\n",
       "      <th>9</th>\n",
       "      <td>3.0</td>\n",
       "      <td>10</td>\n",
       "      <td>2016-05-08</td>\n",
       "      <td>4</td>\n",
       "      <td>4</td>\n",
       "    </tr>\n",
       "  </tbody>\n",
       "</table>\n",
       "</div>"
      ],
      "text/plain": [
       "   UserID  TransactionID TransactionDate  ProductID  Quantity\n",
       "0     7.0              1      2010-08-21          2         1\n",
       "1     3.0              2      2011-05-26          4         1\n",
       "2     3.0              3      2011-06-16          3         1\n",
       "3     1.0              4      2012-08-26          2         3\n",
       "4     2.0              5      2013-06-06          4         1\n",
       "5     2.0              6      2013-12-23          5         6\n",
       "6     3.0              7      2013-12-30          4         1\n",
       "7     NaN              8      2014-04-24          2         3\n",
       "8     7.0              9      2015-04-24          4         3\n",
       "9     3.0             10      2016-05-08          4         4"
      ]
     },
     "execution_count": 102,
     "metadata": {},
     "output_type": "execute_result"
    }
   ],
   "source": [
    "df[cols]"
   ]
  },
  {
   "cell_type": "code",
   "execution_count": 1,
   "id": "d8281b3f-7e6d-4e02-b68c-6289203600a0",
   "metadata": {},
   "outputs": [
    {
     "ename": "NameError",
     "evalue": "name 'df' is not defined",
     "output_type": "error",
     "traceback": [
      "\u001b[0;31m---------------------------------------------------------------------------\u001b[0m",
      "\u001b[0;31mNameError\u001b[0m                                 Traceback (most recent call last)",
      "Cell \u001b[0;32mIn[1], line 1\u001b[0m\n\u001b[0;32m----> 1\u001b[0m second_column \u001b[38;5;241m=\u001b[39m df\u001b[38;5;241m.\u001b[39miloc[:, \u001b[38;5;241m1\u001b[39m]  \u001b[38;5;66;03m# Returns a Series\u001b[39;00m\n\u001b[1;32m      2\u001b[0m second_column_array \u001b[38;5;241m=\u001b[39m df\u001b[38;5;241m.\u001b[39miloc[:, \u001b[38;5;241m1\u001b[39m]\u001b[38;5;241m.\u001b[39mvalues  \u001b[38;5;66;03m# Returns a NumPy array\u001b[39;00m\n\u001b[1;32m      4\u001b[0m \u001b[38;5;28mprint\u001b[39m(second_column)  \u001b[38;5;66;03m# Pandas Series\u001b[39;00m\n",
      "\u001b[0;31mNameError\u001b[0m: name 'df' is not defined"
     ]
    }
   ],
   "source": [
    "second_column = df.iloc[:, 1]  # Returns a Series\n",
    "second_column_array = df.iloc[:, 1].values  # Returns a NumPy array\n",
    "\n",
    "print(second_column)  # Pandas Series\n",
    "print(second_column_array)  # NumPy array"
   ]
  },
  {
   "cell_type": "code",
   "execution_count": 2,
   "id": "a2635405-bc55-4b72-b5ff-720aeb30c18e",
   "metadata": {},
   "outputs": [],
   "source": [
    "import pandas as pd\n",
    "df=pd.read_csv('/home/user/Downloads/transactions.csv')"
   ]
  },
  {
   "cell_type": "code",
   "execution_count": 3,
   "id": "cd300c7a-d427-47ba-999c-41c14a7bad7e",
   "metadata": {},
   "outputs": [
    {
     "name": "stdout",
     "output_type": "stream",
     "text": [
      "0    2010-08-21\n",
      "1    2011-05-26\n",
      "2    2011-06-16\n",
      "3    2012-08-26\n",
      "4    2013-06-06\n",
      "5    2013-12-23\n",
      "6    2013-12-30\n",
      "7    2014-04-24\n",
      "8    2015-04-24\n",
      "9    2016-05-08\n",
      "Name: TransactionDate, dtype: object\n",
      "['2010-08-21' '2011-05-26' '2011-06-16' '2012-08-26' '2013-06-06'\n",
      " '2013-12-23' '2013-12-30' '2014-04-24' '2015-04-24' '2016-05-08']\n"
     ]
    }
   ],
   "source": [
    "second_column = df.iloc[:, 1]  # Returns a Series\n",
    "second_column_array = df.iloc[:, 1].values  # Returns a NumPy array\n",
    "\n",
    "print(second_column)  # Pandas Series\n",
    "print(second_column_array)  # NumPy array"
   ]
  },
  {
   "cell_type": "code",
   "execution_count": 1,
   "id": "6099cba7-5aa6-474a-a2e6-66826346c377",
   "metadata": {},
   "outputs": [
    {
     "ename": "NameError",
     "evalue": "name 'df' is not defined",
     "output_type": "error",
     "traceback": [
      "\u001b[0;31m---------------------------------------------------------------------------\u001b[0m",
      "\u001b[0;31mNameError\u001b[0m                                 Traceback (most recent call last)",
      "Cell \u001b[0;32mIn[1], line 1\u001b[0m\n\u001b[0;32m----> 1\u001b[0m df\n",
      "\u001b[0;31mNameError\u001b[0m: name 'df' is not defined"
     ]
    }
   ],
   "source": [
    "df\n"
   ]
  },
  {
   "cell_type": "code",
   "execution_count": 6,
   "id": "4acb2ce1-61c4-4485-9b27-27363f2d4319",
   "metadata": {},
   "outputs": [
    {
     "name": "stdout",
     "output_type": "stream",
     "text": [
      "[2 4 3 2 4 5 4 2 4 4]\n"
     ]
    }
   ],
   "source": [
    "product=df.iloc[:,3].values\n",
    "print(product);"
   ]
  },
  {
   "cell_type": "code",
   "execution_count": 7,
   "id": "5e971407-eb8d-4637-9460-9e1c0830c353",
   "metadata": {},
   "outputs": [
    {
     "name": "stdout",
     "output_type": "stream",
     "text": [
      "   TransactionID TransactionDate  UserID  ProductID  Quantity\n",
      "1              2      2011-05-26     3.0          4         1\n",
      "3              4      2012-08-26     1.0          2         3\n",
      "6              7      2013-12-30     3.0          4         1\n"
     ]
    }
   ],
   "source": [
    "subset_rows = df.iloc[[1,3,6]]\n",
    "print(subset_rows)"
   ]
  },
  {
   "cell_type": "code",
   "execution_count": 8,
   "id": "7d1d6aa5-4c73-43f5-aa26-252f40fb96ff",
   "metadata": {},
   "outputs": [
    {
     "name": "stdout",
     "output_type": "stream",
     "text": [
      "   TransactionID TransactionDate  UserID  ProductID  Quantity\n",
      "0              1      2010-08-21     7.0          2         1\n",
      "1              2      2011-05-26     3.0          4         1\n",
      "2              3      2011-06-16     3.0          3         1\n"
     ]
    }
   ],
   "source": [
    "subset_rows = df.iloc[[0, 1,2]]\n",
    "print(subset_rows)"
   ]
  },
  {
   "cell_type": "code",
   "execution_count": 19,
   "id": "05d687a4-f482-469d-aa5e-c3a68047ffdd",
   "metadata": {},
   "outputs": [
    {
     "name": "stdout",
     "output_type": "stream",
     "text": [
      "   TransactionID TransactionDate  UserID  ProductID  Quantity\n",
      "8              9      2015-04-24     7.0          4         3\n",
      "9             10      2016-05-08     3.0          4         4\n"
     ]
    }
   ],
   "source": [
    "subset_rows = df.iloc[[8,9]]\n",
    "print(subset_rows)"
   ]
  },
  {
   "cell_type": "code",
   "execution_count": 14,
   "id": "b008fe93-e1d0-4307-9e0e-349300d6d788",
   "metadata": {},
   "outputs": [
    {
     "name": "stdout",
     "output_type": "stream",
     "text": [
      "   TransactionID TransactionDate  UserID  ProductID  Quantity\n",
      "0              1      2010-08-21     7.0          2         1\n",
      "1              2      2011-05-26     3.0          4         1\n",
      "2              3      2011-06-16     3.0          3         1\n",
      "3              4      2012-08-26     1.0          2         3\n",
      "4              5      2013-06-06     2.0          4         1\n",
      "5              6      2013-12-23     2.0          5         6\n",
      "6              7      2013-12-30     3.0          4         1\n",
      "7              8      2014-04-24     NaN          2         3\n"
     ]
    }
   ],
   "source": [
    "subset_rows = df.drop(index=[8])\n",
    "print(subset_rows)"
   ]
  },
  {
   "cell_type": "code",
   "execution_count": 17,
   "id": "044cd497-6676-460d-9ab1-eb58746c3186",
   "metadata": {},
   "outputs": [
    {
     "name": "stdout",
     "output_type": "stream",
     "text": [
      "   TransactionID TransactionDate  UserID  ProductID  Quantity\n",
      "0              1      2010-08-21     7.0          2         1\n",
      "1              2      2011-05-26     3.0          4         1\n",
      "2              3      2011-06-16     3.0          3         1\n",
      "3              4      2012-08-26     1.0          2         3\n",
      "4              5      2013-06-06     2.0          4         1\n",
      "5              6      2013-12-23     2.0          5         6\n",
      "6              7      2013-12-30     3.0          4         1\n",
      "7              8      2014-04-24     NaN          2         3\n"
     ]
    }
   ],
   "source": [
    "subset_rows = df.iloc[:-2]\n",
    "print(subset_rows)"
   ]
  },
  {
   "cell_type": "code",
   "execution_count": 20,
   "id": "f2433ee5-b585-4d0f-91ed-1c228708558f",
   "metadata": {},
   "outputs": [
    {
     "name": "stdout",
     "output_type": "stream",
     "text": [
      "   TransactionID TransactionDate  UserID  ProductID  Quantity\n",
      "0              1      2010-08-21     7.0          2         1\n",
      "1              2      2011-05-26     3.0          4         1\n",
      "2              3      2011-06-16     3.0          3         1\n",
      "3              4      2012-08-26     1.0          2         3\n",
      "4              5      2013-06-06     2.0          4         1\n",
      "5              6      2013-12-23     2.0          5         6\n",
      "6              7      2013-12-30     3.0          4         1\n"
     ]
    }
   ],
   "source": [
    "subset_rows = df.iloc[:-3]\n",
    "print(subset_rows)"
   ]
  },
  {
   "cell_type": "code",
   "execution_count": 22,
   "id": "e55575f2-205e-4d85-91a0-16fe1efdc834",
   "metadata": {},
   "outputs": [
    {
     "name": "stdout",
     "output_type": "stream",
     "text": [
      "   TransactionID TransactionDate  UserID  ProductID  Quantity\n",
      "3              4      2012-08-26     1.0          2         3\n",
      "5              6      2013-12-23     2.0          5         6\n",
      "7              8      2014-04-24     NaN          2         3\n",
      "8              9      2015-04-24     7.0          4         3\n",
      "9             10      2016-05-08     3.0          4         4\n"
     ]
    }
   ],
   "source": [
    "subset = df[df['Quantity'] > 1]\n",
    "print(subset)"
   ]
  },
  {
   "cell_type": "code",
   "execution_count": 29,
   "id": "23f44cc1-3274-46bf-be71-256001db57af",
   "metadata": {},
   "outputs": [
    {
     "name": "stdout",
     "output_type": "stream",
     "text": [
      "   TransactionID TransactionDate  UserID  ProductID  Quantity\n",
      "5              6      2013-12-23     2.0          5         6\n"
     ]
    }
   ],
   "source": [
    "subset = df[(df[\"Quantity\"] > 1) & (df[\"UserID\"] == 2)]\n",
    "print(subset)"
   ]
  },
  {
   "cell_type": "code",
   "execution_count": 30,
   "id": "62b270cd-8ca1-459c-a480-6ac636c1fc35",
   "metadata": {},
   "outputs": [
    {
     "name": "stdout",
     "output_type": "stream",
     "text": [
      "   TransactionID TransactionDate  UserID  ProductID  Quantity\n",
      "0              1      2010-08-21     7.0          2         1\n",
      "1              2      2011-05-26     3.0          4         1\n",
      "2              3      2011-06-16     3.0          3         1\n",
      "3              4      2012-08-26     1.0          2         3\n",
      "5              6      2013-12-23     2.0          5         6\n",
      "6              7      2013-12-30     3.0          4         1\n",
      "8              9      2015-04-24     7.0          4         3\n",
      "9             10      2016-05-08     3.0          4         4\n"
     ]
    }
   ],
   "source": [
    "subset = df[(df[\"Quantity\"] + df[\"UserID\"])>3]\n",
    "print(subset)"
   ]
  },
  {
   "cell_type": "code",
   "execution_count": 31,
   "id": "b6a3ebe2-b6cd-4723-85c8-199247e1b74d",
   "metadata": {},
   "outputs": [
    {
     "ename": "ValueError",
     "evalue": "Item wrong length 4 instead of 10.",
     "output_type": "error",
     "traceback": [
      "\u001b[0;31m---------------------------------------------------------------------------\u001b[0m",
      "\u001b[0;31mValueError\u001b[0m                                Traceback (most recent call last)",
      "\u001b[0;32m/tmp/ipykernel_2625/368117518.py\u001b[0m in \u001b[0;36m?\u001b[0;34m()\u001b[0m\n\u001b[1;32m      1\u001b[0m \u001b[0mfoo\u001b[0m \u001b[0;34m=\u001b[0m \u001b[0;34m[\u001b[0m\u001b[0;32mTrue\u001b[0m\u001b[0;34m,\u001b[0m \u001b[0;32mFalse\u001b[0m\u001b[0;34m,\u001b[0m \u001b[0;32mTrue\u001b[0m\u001b[0;34m,\u001b[0m \u001b[0;32mFalse\u001b[0m\u001b[0;34m]\u001b[0m \u001b[0;31m# Example of a boolean array\u001b[0m\u001b[0;34m\u001b[0m\u001b[0;34m\u001b[0m\u001b[0m\n\u001b[0;32m----> 2\u001b[0;31m \u001b[0msubset_rows\u001b[0m \u001b[0;34m=\u001b[0m \u001b[0mdf\u001b[0m\u001b[0;34m[\u001b[0m\u001b[0mfoo\u001b[0m\u001b[0;34m]\u001b[0m\u001b[0;34m\u001b[0m\u001b[0;34m\u001b[0m\u001b[0m\n\u001b[0m\u001b[1;32m      3\u001b[0m \u001b[0mprint\u001b[0m\u001b[0;34m(\u001b[0m\u001b[0msubset_rows\u001b[0m\u001b[0;34m)\u001b[0m\u001b[0;34m\u001b[0m\u001b[0;34m\u001b[0m\u001b[0m\n",
      "\u001b[0;32m~/anaconda3/lib/python3.11/site-packages/pandas/core/frame.py\u001b[0m in \u001b[0;36m?\u001b[0;34m(self, key)\u001b[0m\n\u001b[1;32m   3880\u001b[0m             \u001b[0;32mreturn\u001b[0m \u001b[0mself\u001b[0m\u001b[0;34m.\u001b[0m\u001b[0mwhere\u001b[0m\u001b[0;34m(\u001b[0m\u001b[0mkey\u001b[0m\u001b[0;34m)\u001b[0m\u001b[0;34m\u001b[0m\u001b[0;34m\u001b[0m\u001b[0m\n\u001b[1;32m   3881\u001b[0m \u001b[0;34m\u001b[0m\u001b[0m\n\u001b[1;32m   3882\u001b[0m         \u001b[0;31m# Do we have a (boolean) 1d indexer?\u001b[0m\u001b[0;34m\u001b[0m\u001b[0;34m\u001b[0m\u001b[0m\n\u001b[1;32m   3883\u001b[0m         \u001b[0;32mif\u001b[0m \u001b[0mcom\u001b[0m\u001b[0;34m.\u001b[0m\u001b[0mis_bool_indexer\u001b[0m\u001b[0;34m(\u001b[0m\u001b[0mkey\u001b[0m\u001b[0;34m)\u001b[0m\u001b[0;34m:\u001b[0m\u001b[0;34m\u001b[0m\u001b[0;34m\u001b[0m\u001b[0m\n\u001b[0;32m-> 3884\u001b[0;31m             \u001b[0;32mreturn\u001b[0m \u001b[0mself\u001b[0m\u001b[0;34m.\u001b[0m\u001b[0m_getitem_bool_array\u001b[0m\u001b[0;34m(\u001b[0m\u001b[0mkey\u001b[0m\u001b[0;34m)\u001b[0m\u001b[0;34m\u001b[0m\u001b[0;34m\u001b[0m\u001b[0m\n\u001b[0m\u001b[1;32m   3885\u001b[0m \u001b[0;34m\u001b[0m\u001b[0m\n\u001b[1;32m   3886\u001b[0m         \u001b[0;31m# We are left with two options: a single key, and a collection of keys,\u001b[0m\u001b[0;34m\u001b[0m\u001b[0;34m\u001b[0m\u001b[0m\n\u001b[1;32m   3887\u001b[0m         \u001b[0;31m# We interpret tuples as collections only for non-MultiIndex\u001b[0m\u001b[0;34m\u001b[0m\u001b[0;34m\u001b[0m\u001b[0m\n",
      "\u001b[0;32m~/anaconda3/lib/python3.11/site-packages/pandas/core/frame.py\u001b[0m in \u001b[0;36m?\u001b[0;34m(self, key)\u001b[0m\n\u001b[1;32m   3930\u001b[0m                 \u001b[0mUserWarning\u001b[0m\u001b[0;34m,\u001b[0m\u001b[0;34m\u001b[0m\u001b[0;34m\u001b[0m\u001b[0m\n\u001b[1;32m   3931\u001b[0m                 \u001b[0mstacklevel\u001b[0m\u001b[0;34m=\u001b[0m\u001b[0mfind_stack_level\u001b[0m\u001b[0;34m(\u001b[0m\u001b[0;34m)\u001b[0m\u001b[0;34m,\u001b[0m\u001b[0;34m\u001b[0m\u001b[0;34m\u001b[0m\u001b[0m\n\u001b[1;32m   3932\u001b[0m             )\n\u001b[1;32m   3933\u001b[0m         \u001b[0;32melif\u001b[0m \u001b[0mlen\u001b[0m\u001b[0;34m(\u001b[0m\u001b[0mkey\u001b[0m\u001b[0;34m)\u001b[0m \u001b[0;34m!=\u001b[0m \u001b[0mlen\u001b[0m\u001b[0;34m(\u001b[0m\u001b[0mself\u001b[0m\u001b[0;34m.\u001b[0m\u001b[0mindex\u001b[0m\u001b[0;34m)\u001b[0m\u001b[0;34m:\u001b[0m\u001b[0;34m\u001b[0m\u001b[0;34m\u001b[0m\u001b[0m\n\u001b[0;32m-> 3934\u001b[0;31m             raise ValueError(\n\u001b[0m\u001b[1;32m   3935\u001b[0m                 \u001b[0;34mf\"Item wrong length {len(key)} instead of {len(self.index)}.\"\u001b[0m\u001b[0;34m\u001b[0m\u001b[0;34m\u001b[0m\u001b[0m\n\u001b[1;32m   3936\u001b[0m             )\n\u001b[1;32m   3937\u001b[0m \u001b[0;34m\u001b[0m\u001b[0m\n",
      "\u001b[0;31mValueError\u001b[0m: Item wrong length 4 instead of 10."
     ]
    }
   ],
   "source": [
    "foo = [True, False, True, False] # Example of a boolean array\n",
    "subset_rows = df[foo]\n",
    "print(subset_rows)"
   ]
  },
  {
   "cell_type": "code",
   "execution_count": 32,
   "id": "5cc183a2-595d-4957-a989-6d37148b1b67",
   "metadata": {},
   "outputs": [
    {
     "name": "stdout",
     "output_type": "stream",
     "text": [
      "    A    B\n",
      "0  10  100\n",
      "2  30  300\n",
      "4  50  500\n"
     ]
    }
   ],
   "source": [
    "import pandas as pd\n",
    "import numpy as np\n",
    "\n",
    "# Sample DataFrame\n",
    "data = {'A': [10, 20, 30, 40, 50], 'B': [100, 200, 300, 400, 500]}\n",
    "df = pd.DataFrame(data)\n",
    "\n",
    "# External Boolean array\n",
    "foo = np.array([True, False, True, False, True])\n",
    "\n",
    "# Subset rows where foo is True\n",
    "subset_rows = df[foo]\n",
    "\n",
    "print(subset_rows)\n"
   ]
  },
  {
   "cell_type": "code",
   "execution_count": 33,
   "id": "c65b7341-b354-4409-a16b-a838e446e6fe",
   "metadata": {},
   "outputs": [
    {
     "name": "stdout",
     "output_type": "stream",
     "text": [
      "    A    B\n",
      "0  10  100\n",
      "2  30  300\n",
      "4  50  500\n"
     ]
    }
   ],
   "source": [
    "bar = np.array([1, -2, 3, -4, 5])  # Only keep rows where bar > 0\n",
    "\n",
    "# Subset rows where bar is positive\n",
    "subset_rows = df[bar > 0]\n",
    "\n",
    "print(subset_rows)"
   ]
  },
  {
   "cell_type": "code",
   "execution_count": 34,
   "id": "7fafc545-9b0b-4930-b4c4-342e1283674e",
   "metadata": {},
   "outputs": [
    {
     "name": "stdout",
     "output_type": "stream",
     "text": [
      "    A    B\n",
      "1  20  200\n",
      "3  40  400\n"
     ]
    }
   ],
   "source": [
    "bar = np.array([1, -2, 3, -4, 5])  # Only keep rows where bar > 0\n",
    "\n",
    "# Subset rows where bar is positive\n",
    "subset_rows = df[bar <0]\n",
    "\n",
    "print(subset_rows)"
   ]
  },
  {
   "cell_type": "code",
   "execution_count": 38,
   "id": "2af3dca0-a936-4b43-8c2a-95ced9d8b83f",
   "metadata": {},
   "outputs": [
    {
     "name": "stdout",
     "output_type": "stream",
     "text": [
      "  TransactionDate  ProductID\n",
      "0      2010-08-21          2\n",
      "1      2011-05-26          4\n",
      "2      2011-06-16          3\n",
      "3      2012-08-26          2\n",
      "4      2013-06-06          4\n",
      "5      2013-12-23          5\n",
      "6      2013-12-30          4\n",
      "7      2014-04-24          2\n",
      "8      2015-04-24          4\n",
      "9      2016-05-08          4\n"
     ]
    }
   ],
   "source": [
    "subset_columns = df.iloc[:, [1, 3]]\n",
    "\n",
    "print(subset_columns)"
   ]
  },
  {
   "cell_type": "code",
   "execution_count": 37,
   "id": "3d3fd6a2-ad4e-4086-a9c9-01a8618c8112",
   "metadata": {},
   "outputs": [],
   "source": [
    "import pandas as pd\n",
    "df=pd.read_csv('/home/user/Downloads/transactions.csv')"
   ]
  },
  {
   "cell_type": "code",
   "execution_count": 39,
   "id": "628960b0-bf47-490b-94d6-6bec0396c1b1",
   "metadata": {},
   "outputs": [
    {
     "name": "stdout",
     "output_type": "stream",
     "text": [
      "   TransactionID TransactionDate\n",
      "0              1      2010-08-21\n",
      "1              2      2011-05-26\n",
      "2              3      2011-06-16\n",
      "3              4      2012-08-26\n",
      "4              5      2013-06-06\n",
      "5              6      2013-12-23\n",
      "6              7      2013-12-30\n",
      "7              8      2014-04-24\n",
      "8              9      2015-04-24\n",
      "9             10      2016-05-08\n"
     ]
    }
   ],
   "source": [
    "columns_to_select = ['TransactionID', 'TransactionDate']\n",
    "subset_columns = df[columns_to_select]\n",
    "print(subset_columns)"
   ]
  },
  {
   "cell_type": "code",
   "execution_count": 41,
   "id": "ff463595-12a7-448e-8f2c-363ed165ae89",
   "metadata": {},
   "outputs": [
    {
     "name": "stdout",
     "output_type": "stream",
     "text": [
      "   TransactionID TransactionDate\n",
      "3              4      2012-08-26\n",
      "5              6      2013-12-23\n",
      "7              8      2014-04-24\n",
      "8              9      2015-04-24\n",
      "9             10      2016-05-08\n"
     ]
    }
   ],
   "source": [
    "subset = df[df['Quantity'] > 1][['TransactionID',\n",
    "'TransactionDate']]\n",
    "print(subset)"
   ]
  },
  {
   "cell_type": "code",
   "execution_count": 42,
   "id": "5a254c7c-b48d-4d51-ae01-e6b100452d6d",
   "metadata": {},
   "outputs": [
    {
     "name": "stdout",
     "output_type": "stream",
     "text": [
      "   TransactionID TransactionDate\n",
      "0              1      2010-08-21\n",
      "1              2      2011-05-26\n",
      "2              3      2011-06-16\n",
      "3              4      2012-08-26\n",
      "4              5      2013-06-06\n",
      "5              6      2013-12-23\n",
      "6              7      2013-12-30\n",
      "7              8      2014-04-24\n",
      "8              9      2015-04-24\n",
      "9             10      2016-05-08\n"
     ]
    }
   ],
   "source": [
    "columns_to_select = ['TransactionID', 'TransactionDate']\n",
    "subset_columns = df[columns_to_select]\n",
    "print(subset_columns)"
   ]
  },
  {
   "cell_type": "code",
   "execution_count": 43,
   "id": "a3992a26-b8c3-46e1-8b02-4032e7b81519",
   "metadata": {},
   "outputs": [
    {
     "name": "stdout",
     "output_type": "stream",
     "text": [
      "   TransactionID TransactionDate  UserID\n",
      "0              1      2010-08-21     7.0\n",
      "1              2      2011-05-26     3.0\n",
      "2              3      2011-06-16     3.0\n",
      "3              4      2012-08-26     1.0\n",
      "4              5      2013-06-06     2.0\n",
      "5              6      2013-12-23     2.0\n",
      "6              7      2013-12-30     3.0\n",
      "7              8      2014-04-24     NaN\n",
      "8              9      2015-04-24     7.0\n",
      "9             10      2016-05-08     3.0\n"
     ]
    }
   ],
   "source": [
    "columns_to_exclude = ['Quantity', 'ProductID']\n",
    "subset_columns_excluded = df[[col for col in df.columns if col not\n",
    "in columns_to_exclude]]\n",
    "print(subset_columns_excluded)"
   ]
  },
  {
   "cell_type": "code",
   "execution_count": 44,
   "id": "ce42939f-968d-48ba-ad84-6b2c9ae89029",
   "metadata": {},
   "outputs": [
    {
     "name": "stdout",
     "output_type": "stream",
     "text": [
      "   TransactionID TransactionDate  UserID  ProductID  Quantity  Foo\n",
      "0              1      2010-08-21     7.0          2         1  9.0\n",
      "1              2      2011-05-26     3.0          4         1  7.0\n",
      "2              3      2011-06-16     3.0          3         1  6.0\n",
      "3              4      2012-08-26     1.0          2         3  3.0\n",
      "4              5      2013-06-06     2.0          4         1  6.0\n"
     ]
    }
   ],
   "source": [
    "df['Foo'] = df['UserID'] + df['ProductID']\n",
    "print(df.head())"
   ]
  },
  {
   "cell_type": "code",
   "execution_count": 45,
   "id": "05371110-6183-4ada-a00e-00eb7b23a7f3",
   "metadata": {},
   "outputs": [
    {
     "ename": "NameError",
     "evalue": "name 'new_quantity_value' is not defined",
     "output_type": "error",
     "traceback": [
      "\u001b[0;31m---------------------------------------------------------------------------\u001b[0m",
      "\u001b[0;31mNameError\u001b[0m                                 Traceback (most recent call last)",
      "Cell \u001b[0;32mIn[45], line 1\u001b[0m\n\u001b[0;32m----> 1\u001b[0m df\u001b[38;5;241m.\u001b[39mloc[df[\u001b[38;5;124m'\u001b[39m\u001b[38;5;124mUserID\u001b[39m\u001b[38;5;124m'\u001b[39m] \u001b[38;5;241m==\u001b[39m \u001b[38;5;241m2\u001b[39m, \u001b[38;5;124m'\u001b[39m\u001b[38;5;124mQuantity\u001b[39m\u001b[38;5;124m'\u001b[39m] \u001b[38;5;241m=\u001b[39m new_quantity_value\n",
      "\u001b[0;31mNameError\u001b[0m: name 'new_quantity_value' is not defined"
     ]
    }
   ],
   "source": [
    "df.loc[df['UserID'] == 2, 'Quantity'] = new_quantity_value\n"
   ]
  },
  {
   "cell_type": "code",
   "execution_count": 46,
   "id": "4f58304c-df63-4f41-8db7-50ec35843ab3",
   "metadata": {},
   "outputs": [
    {
     "ename": "NameError",
     "evalue": "name 'new_user_id' is not defined",
     "output_type": "error",
     "traceback": [
      "\u001b[0;31m---------------------------------------------------------------------------\u001b[0m",
      "\u001b[0;31mNameError\u001b[0m                                 Traceback (most recent call last)",
      "Cell \u001b[0;32mIn[46], line 1\u001b[0m\n\u001b[0;32m----> 1\u001b[0m df\u001b[38;5;241m.\u001b[39mloc[\u001b[38;5;28mlen\u001b[39m(df)] \u001b[38;5;241m=\u001b[39m [new_user_id, new_product_id, new_quantity,\n\u001b[1;32m      2\u001b[0m new_transaction_date]\n",
      "\u001b[0;31mNameError\u001b[0m: name 'new_user_id' is not defined"
     ]
    }
   ],
   "source": [
    "df.loc[len(df)] = [new_user_id, new_product_id, new_quantity,\n",
    "new_transaction_date]"
   ]
  },
  {
   "cell_type": "code",
   "execution_count": 47,
   "id": "46cb6ce3-66d9-40ff-8639-624f470c330a",
   "metadata": {},
   "outputs": [
    {
     "name": "stdout",
     "output_type": "stream",
     "text": [
      "TransactionID               int64\n",
      "TransactionDate    datetime64[ns]\n",
      "UserID                    float64\n",
      "ProductID                   int64\n",
      "Quantity                    int64\n",
      "Foo                       float64\n",
      "dtype: object\n"
     ]
    }
   ],
   "source": [
    "df['TransactionDate'] = pd.to_datetime(df['TransactionDate'])\n",
    "print(df.dtypes)"
   ]
  },
  {
   "cell_type": "code",
   "execution_count": 48,
   "id": "1217adee-61ff-4f3d-8b65-7e97e7cc3af4",
   "metadata": {},
   "outputs": [
    {
     "name": "stdout",
     "output_type": "stream",
     "text": [
      "   TransactionID TransactionDate  UserID  ProductID  Quantity  Foo  \\\n",
      "0              1      2010-08-21     7.0          2         1  9.0   \n",
      "1              2      2011-05-26     3.0          4         1  7.0   \n",
      "2              3      2011-06-16     3.0          3         1  6.0   \n",
      "3              4      2012-08-26     1.0          2         3  3.0   \n",
      "4              5      2013-06-06     2.0          4         1  6.0   \n",
      "\n",
      "   new_user_id  \n",
      "0          7.0  \n",
      "1          3.0  \n",
      "2          3.0  \n",
      "3          1.0  \n",
      "4          2.0  \n"
     ]
    }
   ],
   "source": [
    "df['new_user_id'] = df['UserID']\n",
    "print(df.head())"
   ]
  },
  {
   "cell_type": "code",
   "execution_count": 49,
   "id": "b403e3a0-bdbe-4c68-815b-916b9f3673ae",
   "metadata": {},
   "outputs": [
    {
     "ename": "NameError",
     "evalue": "name 'new_quantity_value' is not defined",
     "output_type": "error",
     "traceback": [
      "\u001b[0;31m---------------------------------------------------------------------------\u001b[0m",
      "\u001b[0;31mNameError\u001b[0m                                 Traceback (most recent call last)",
      "Cell \u001b[0;32mIn[49], line 1\u001b[0m\n\u001b[0;32m----> 1\u001b[0m df\u001b[38;5;241m.\u001b[39mloc[df[\u001b[38;5;124m'\u001b[39m\u001b[38;5;124mUserID\u001b[39m\u001b[38;5;124m'\u001b[39m] \u001b[38;5;241m==\u001b[39m \u001b[38;5;241m2\u001b[39m, \u001b[38;5;124m'\u001b[39m\u001b[38;5;124mQuantity\u001b[39m\u001b[38;5;124m'\u001b[39m] \u001b[38;5;241m=\u001b[39m new_quantity_value\n",
      "\u001b[0;31mNameError\u001b[0m: name 'new_quantity_value' is not defined"
     ]
    }
   ],
   "source": [
    "df.loc[df['UserID'] == 2, 'Quantity'] = new_quantity_value"
   ]
  },
  {
   "cell_type": "code",
   "execution_count": 3,
   "id": "d8225537-41d4-4251-8e63-3aba4186c402",
   "metadata": {},
   "outputs": [
    {
     "data": {
      "text/html": [
       "<div>\n",
       "<style scoped>\n",
       "    .dataframe tbody tr th:only-of-type {\n",
       "        vertical-align: middle;\n",
       "    }\n",
       "\n",
       "    .dataframe tbody tr th {\n",
       "        vertical-align: top;\n",
       "    }\n",
       "\n",
       "    .dataframe thead th {\n",
       "        text-align: right;\n",
       "    }\n",
       "</style>\n",
       "<table border=\"1\" class=\"dataframe\">\n",
       "  <thead>\n",
       "    <tr style=\"text-align: right;\">\n",
       "      <th></th>\n",
       "      <th>TransactionID</th>\n",
       "      <th>TransactionDate</th>\n",
       "      <th>UserID</th>\n",
       "      <th>ProductID</th>\n",
       "      <th>Quantity</th>\n",
       "    </tr>\n",
       "  </thead>\n",
       "  <tbody>\n",
       "    <tr>\n",
       "      <th>0</th>\n",
       "      <td>1</td>\n",
       "      <td>2010-08-21</td>\n",
       "      <td>7.0</td>\n",
       "      <td>2</td>\n",
       "      <td>1</td>\n",
       "    </tr>\n",
       "    <tr>\n",
       "      <th>1</th>\n",
       "      <td>2</td>\n",
       "      <td>2011-05-26</td>\n",
       "      <td>3.0</td>\n",
       "      <td>4</td>\n",
       "      <td>1</td>\n",
       "    </tr>\n",
       "    <tr>\n",
       "      <th>2</th>\n",
       "      <td>3</td>\n",
       "      <td>2011-06-16</td>\n",
       "      <td>3.0</td>\n",
       "      <td>3</td>\n",
       "      <td>1</td>\n",
       "    </tr>\n",
       "    <tr>\n",
       "      <th>3</th>\n",
       "      <td>4</td>\n",
       "      <td>2012-08-26</td>\n",
       "      <td>1.0</td>\n",
       "      <td>2</td>\n",
       "      <td>3</td>\n",
       "    </tr>\n",
       "    <tr>\n",
       "      <th>4</th>\n",
       "      <td>5</td>\n",
       "      <td>2013-06-06</td>\n",
       "      <td>2.0</td>\n",
       "      <td>4</td>\n",
       "      <td>1</td>\n",
       "    </tr>\n",
       "    <tr>\n",
       "      <th>5</th>\n",
       "      <td>6</td>\n",
       "      <td>2013-12-23</td>\n",
       "      <td>2.0</td>\n",
       "      <td>5</td>\n",
       "      <td>6</td>\n",
       "    </tr>\n",
       "    <tr>\n",
       "      <th>6</th>\n",
       "      <td>7</td>\n",
       "      <td>2013-12-30</td>\n",
       "      <td>3.0</td>\n",
       "      <td>4</td>\n",
       "      <td>1</td>\n",
       "    </tr>\n",
       "    <tr>\n",
       "      <th>7</th>\n",
       "      <td>8</td>\n",
       "      <td>2014-04-24</td>\n",
       "      <td>NaN</td>\n",
       "      <td>2</td>\n",
       "      <td>3</td>\n",
       "    </tr>\n",
       "    <tr>\n",
       "      <th>8</th>\n",
       "      <td>9</td>\n",
       "      <td>2015-04-24</td>\n",
       "      <td>7.0</td>\n",
       "      <td>4</td>\n",
       "      <td>3</td>\n",
       "    </tr>\n",
       "    <tr>\n",
       "      <th>9</th>\n",
       "      <td>10</td>\n",
       "      <td>2016-05-08</td>\n",
       "      <td>3.0</td>\n",
       "      <td>4</td>\n",
       "      <td>4</td>\n",
       "    </tr>\n",
       "  </tbody>\n",
       "</table>\n",
       "</div>"
      ],
      "text/plain": [
       "   TransactionID TransactionDate  UserID  ProductID  Quantity\n",
       "0              1      2010-08-21     7.0          2         1\n",
       "1              2      2011-05-26     3.0          4         1\n",
       "2              3      2011-06-16     3.0          3         1\n",
       "3              4      2012-08-26     1.0          2         3\n",
       "4              5      2013-06-06     2.0          4         1\n",
       "5              6      2013-12-23     2.0          5         6\n",
       "6              7      2013-12-30     3.0          4         1\n",
       "7              8      2014-04-24     NaN          2         3\n",
       "8              9      2015-04-24     7.0          4         3\n",
       "9             10      2016-05-08     3.0          4         4"
      ]
     },
     "execution_count": 3,
     "metadata": {},
     "output_type": "execute_result"
    }
   ],
   "source": [
    "df"
   ]
  },
  {
   "cell_type": "code",
   "execution_count": null,
   "id": "0c24615c-35a8-4b43-92b0-4be43613eabf",
   "metadata": {},
   "outputs": [],
   "source": []
  }
 ],
 "metadata": {
  "kernelspec": {
   "display_name": "Python 3 (ipykernel)",
   "language": "python",
   "name": "python3"
  },
  "language_info": {
   "codemirror_mode": {
    "name": "ipython",
    "version": 3
   },
   "file_extension": ".py",
   "mimetype": "text/x-python",
   "name": "python",
   "nbconvert_exporter": "python",
   "pygments_lexer": "ipython3",
   "version": "3.11.7"
  }
 },
 "nbformat": 4,
 "nbformat_minor": 5
}
