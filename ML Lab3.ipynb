{
 "cells": [
  {
   "cell_type": "code",
   "execution_count": 3,
   "id": "291288f5-76ce-487c-adf0-e979a834168f",
   "metadata": {},
   "outputs": [
    {
     "name": "stdout",
     "output_type": "stream",
     "text": [
      "      TV  Sales\n",
      "0  230.1   22.1\n",
      "1   44.5   10.4\n",
      "2   17.2    9.3\n",
      "3  151.5   18.5\n",
      "4  180.8   12.9\n"
     ]
    }
   ],
   "source": [
    "\n",
    "import pandas as pd\n",
    "df=pd.read_csv(\"Downloads/tvmarketing.csv\")\n",
    "\n",
    "print(df.head())"
   ]
  },
  {
   "cell_type": "code",
   "execution_count": 1,
   "id": "ed371dc7-9ee2-4cae-8748-80436e918b76",
   "metadata": {},
   "outputs": [
    {
     "name": "stdout",
     "output_type": "stream",
     "text": [
      "<class 'pandas.core.frame.DataFrame'>\n",
      "RangeIndex: 200 entries, 0 to 199\n",
      "Data columns (total 2 columns):\n",
      " #   Column  Non-Null Count  Dtype  \n",
      "---  ------  --------------  -----  \n",
      " 0   TV      200 non-null    float64\n",
      " 1   Sales   200 non-null    float64\n",
      "dtypes: float64(2)\n",
      "memory usage: 3.3 KB\n",
      "None\n"
     ]
    }
   ],
   "source": [
    "\n",
    "\n",
    "import pandas as pd\n",
    "df=pd.read_csv(\"Downloads/tvmarketing.csv\")\n",
    "print(df.info())"
   ]
  },
  {
   "cell_type": "code",
   "execution_count": 2,
   "id": "0e4b5acc-3bd8-4203-a81d-b2ddf792a880",
   "metadata": {},
   "outputs": [
    {
     "name": "stdout",
     "output_type": "stream",
     "text": [
      "Number of rows: 200\n",
      "Number of columns: 2\n"
     ]
    }
   ],
   "source": [
    "num_rows, num_columns = df.shape\n",
    "print(\"Number of rows:\", num_rows)\n",
    "print(\"Number of columns:\", num_columns)"
   ]
  },
  {
   "cell_type": "code",
   "execution_count": 3,
   "id": "6d9e58ce-4f1e-4c6a-bc80-edc7fa7c1cd9",
   "metadata": {},
   "outputs": [
    {
     "name": "stdout",
     "output_type": "stream",
     "text": [
      "Summary Statistics for Numerical Variables:\n",
      "               TV       Sales\n",
      "count  200.000000  200.000000\n",
      "mean   147.042500   14.022500\n",
      "std     85.854236    5.217457\n",
      "min      0.700000    1.600000\n",
      "25%     74.375000   10.375000\n",
      "50%    149.750000   12.900000\n",
      "75%    218.825000   17.400000\n",
      "max    296.400000   27.000000\n"
     ]
    }
   ],
   "source": [
    "print(\"Summary Statistics for Numerical Variables:\")\n",
    "print(df.describe())"
   ]
  },
  {
   "cell_type": "code",
   "execution_count": 4,
   "id": "9c8444d7-b852-48aa-98b8-c867c1cf5c05",
   "metadata": {},
   "outputs": [
    {
     "name": "stdout",
     "output_type": "stream",
     "text": [
      "TV       float64\n",
      "Sales    float64\n",
      "dtype: object\n"
     ]
    }
   ],
   "source": [
    "print(df.dtypes)"
   ]
  },
  {
   "cell_type": "raw",
   "id": "8966c853-f3c8-4a4a-813b-a371dbe7aa8e",
   "metadata": {},
   "source": []
  },
  {
   "cell_type": "code",
   "execution_count": 5,
   "id": "0887c21e-f2d7-4fd5-9488-1497d6ea27c2",
   "metadata": {},
   "outputs": [
    {
     "name": "stdout",
     "output_type": "stream",
     "text": [
      "Requirement already satisfied: scikit-learn in ./anaconda3/lib/python3.11/site-packages (1.2.2)\n",
      "Requirement already satisfied: numpy>=1.17.3 in ./anaconda3/lib/python3.11/site-packages (from scikit-learn) (1.26.4)\n",
      "Requirement already satisfied: scipy>=1.3.2 in ./anaconda3/lib/python3.11/site-packages (from scikit-learn) (1.11.4)\n",
      "Requirement already satisfied: joblib>=1.1.1 in ./anaconda3/lib/python3.11/site-packages (from scikit-learn) (1.2.0)\n",
      "Requirement already satisfied: threadpoolctl>=2.0.0 in ./anaconda3/lib/python3.11/site-packages (from scikit-learn) (2.2.0)\n",
      "Note: you may need to restart the kernel to use updated packages.\n"
     ]
    }
   ],
   "source": [
    "pip install scikit-learn"
   ]
  },
  {
   "cell_type": "raw",
   "id": "9b3ff44b-e3f0-4365-a9d5-f48ce77e76e1",
   "metadata": {},
   "source": [
    "\n",
    "from sklearn.model-selection import train_test_split\n",
    "x=df[['TV']]\n",
    "y=df[['Sales']]\n",
    "X_train,y_train,X_test,y_test=train_test_split(x,y,test,size=0.3)\n",
    "print(X_train,y_train,X_test,y_test)"
   ]
  },
  {
   "cell_type": "code",
   "execution_count": 6,
   "id": "752a8c1a-7475-4bba-ae60-61b5ab7eb98f",
   "metadata": {},
   "outputs": [
    {
     "name": "stdout",
     "output_type": "stream",
     "text": [
      "        TV\n",
      "17   281.4\n",
      "1     44.5\n",
      "35   290.7\n",
      "153  171.3\n",
      "69   216.8\n",
      "..     ...\n",
      "52   216.4\n",
      "147  243.2\n",
      "28   248.8\n",
      "81   239.8\n",
      "50   199.8\n",
      "\n",
      "[140 rows x 1 columns]         TV\n",
      "197  177.0\n",
      "123  123.1\n",
      "38    43.1\n",
      "143  104.6\n",
      "94   107.4\n",
      "48   227.2\n",
      "66    31.5\n",
      "95   163.3\n",
      "9    199.8\n",
      "132    8.4\n",
      "193  166.8\n",
      "79   116.0\n",
      "89   109.8\n",
      "141  193.7\n",
      "184  253.8\n",
      "182   56.2\n",
      "101  296.4\n",
      "18    69.2\n",
      "194  149.7\n",
      "159  131.7\n",
      "152  197.6\n",
      "22    13.2\n",
      "31   112.9\n",
      "121   18.8\n",
      "175  276.9\n",
      "148   38.0\n",
      "82    75.3\n",
      "88    88.3\n",
      "76    27.5\n",
      "111  241.7\n",
      "26   142.9\n",
      "71   109.8\n",
      "36   266.9\n",
      "84   213.5\n",
      "11   214.7\n",
      "189   18.7\n",
      "87   110.7\n",
      "180  156.6\n",
      "29    70.6\n",
      "7    120.2\n",
      "113  209.6\n",
      "60    53.5\n",
      "72    26.8\n",
      "12    23.8\n",
      "188  286.0\n",
      "39   228.0\n",
      "136   25.6\n",
      "171  164.5\n",
      "165  234.5\n",
      "145  140.3\n",
      "106   25.0\n",
      "19   147.3\n",
      "163  163.5\n",
      "14   204.1\n",
      "119   19.4\n",
      "158   11.7\n",
      "112  175.7\n",
      "186  139.5\n",
      "102  280.2\n",
      "85   193.2      Sales\n",
      "17    24.4\n",
      "1     10.4\n",
      "35    12.8\n",
      "153   19.0\n",
      "69    22.3\n",
      "..     ...\n",
      "52    22.6\n",
      "147   25.4\n",
      "28    18.9\n",
      "81    12.3\n",
      "50    11.4\n",
      "\n",
      "[140 rows x 1 columns]      Sales\n",
      "197   12.8\n",
      "123   15.2\n",
      "38    10.1\n",
      "143   10.4\n",
      "94    11.5\n",
      "48    14.8\n",
      "66     9.5\n",
      "95    16.9\n",
      "9     10.6\n",
      "132    5.7\n",
      "193   19.6\n",
      "79    11.0\n",
      "89    16.7\n",
      "141   19.2\n",
      "184   17.6\n",
      "182    8.7\n",
      "101   23.8\n",
      "18    11.3\n",
      "194   17.3\n",
      "159   12.9\n",
      "152   16.6\n",
      "22     5.6\n",
      "31    11.9\n",
      "121    7.0\n",
      "175   27.0\n",
      "148   10.9\n",
      "82    11.3\n",
      "88    12.9\n",
      "76     6.9\n",
      "111   21.8\n",
      "26    15.0\n",
      "71    12.4\n",
      "36    25.4\n",
      "84    21.7\n",
      "11    17.4\n",
      "189    6.7\n",
      "87    16.0\n",
      "180   10.5\n",
      "29    10.5\n",
      "7     13.2\n",
      "113   15.9\n",
      "60     8.1\n",
      "72     8.8\n",
      "12     9.2\n",
      "188   15.9\n",
      "39    21.5\n",
      "136    9.5\n",
      "171   14.5\n",
      "165   11.9\n",
      "145   10.3\n",
      "106    7.2\n",
      "19    14.6\n",
      "163   18.0\n",
      "14    19.0\n",
      "119    6.6\n",
      "158    7.3\n",
      "112   14.1\n",
      "186   10.3\n",
      "102   14.8\n",
      "85    15.2\n"
     ]
    }
   ],
   "source": [
    "from sklearn.model_selection import train_test_split\n",
    "x=df[['TV']]\n",
    "y=df[['Sales']]\n",
    "X_train,X_test,Y_train,Y_test=train_test_split(x,y,test_size=0.3)\n",
    "print(X_train,X_test,Y_train,Y_test)"
   ]
  },
  {
   "cell_type": "code",
   "execution_count": 7,
   "id": "7ddaae7a-93c0-4290-a749-c9844ea4fb0a",
   "metadata": {},
   "outputs": [
    {
     "name": "stdout",
     "output_type": "stream",
     "text": [
      "shape of the X_train (140, 1)\n",
      "shape of the Y_train (140, 1)\n",
      "shape of the X_test (60, 1)\n",
      "shape of the Y_test (60, 1)\n"
     ]
    }
   ],
   "source": [
    "print(\"shape of the X_train\",X_train.shape)\n",
    "print(\"shape of the Y_train\",Y_train.shape)\n",
    "print(\"shape of the X_test\",X_test.shape)\n",
    "print(\"shape of the Y_test\",Y_test.shape)"
   ]
  },
  {
   "cell_type": "code",
   "execution_count": 8,
   "id": "8728e086-5d46-47ce-8128-dda0f41fdce5",
   "metadata": {},
   "outputs": [
    {
     "name": "stdout",
     "output_type": "stream",
     "text": [
      "Intercept: 7.088173725293524\n",
      "Coefficient for TV: 0.04684841209271579\n"
     ]
    }
   ],
   "source": [
    "import numpy as np\n",
    "\n",
    "# Add a column of ones to X_train for the intercept term\n",
    "X_b = np.c_[np.ones((X_train.shape[0], 1)), X_train]  # Add bias (intercept) term\n",
    "\n",
    "# Convert to numpy arrays (if not already)\n",
    "X_b = np.array(X_b)\n",
    "y_train_np = np.array(Y_train)\n",
    "\n",
    "# Compute theta (coefficients) using the Normal Equation\n",
    "theta = np.linalg.inv(X_b.T.dot(X_b)).dot(X_b.T).dot(y_train_np)\n",
    "\n",
    "# Print coefficients\n",
    "print(\"Intercept:\", theta[0][0])  # First value is the intercept\n",
    "print(\"Coefficient for TV:\", theta[1][0])  # Second value is the coefficient for 'TV'\n"
   ]
  },
  {
   "cell_type": "code",
   "execution_count": 9,
   "id": "ea90046c-dd7f-4f9b-9264-e2b92488b203",
   "metadata": {},
   "outputs": [
    {
     "data": {
      "image/png": "[encoded data removed]",
      "text/plain": [
       "<Figure size 800x600 with 1 Axes>"
      ]
     },
     "metadata": {},
     "output_type": "display_data"
    }
   ],
   "source": [
    "import matplotlib.pyplot as plt\n",
    "import seaborn as sns\n",
    "\n",
    "# Scatter plot to visualize the relationship\n",
    "plt.figure(figsize=(8,6))\n",
    "sns.scatterplot(x=df['TV'], y=df['Sales'], color='blue')\n",
    "\n",
    "# Labels and title\n",
    "plt.xlabel(\"TV Marketing Budget ($)\")\n",
    "plt.ylabel(\"Sales ($)\")\n",
    "plt.title(\"Relationship between TV Marketing Budget and Sales\")\n",
    "\n",
    "# Show the plot\n",
    "plt.show()\n"
   ]
  },
  {
   "cell_type": "code",
   "execution_count": 10,
   "id": "c78c77b9-f63d-4f3b-a75a-755e29bea6ed",
   "metadata": {},
   "outputs": [
    {
     "name": "stdout",
     "output_type": "stream",
     "text": [
      "Predicted Sales values:\n",
      " [[15.38034267]\n",
      " [12.85521325]\n",
      " [ 9.10734029]\n",
      " [11.98851763]\n",
      " [12.11969318]]\n"
     ]
    }
   ],
   "source": [
    "import numpy as np\n",
    "\n",
    "# Add a column of ones to X_test for the intercept term\n",
    "X_test_b = np.c_[np.ones((X_test.shape[0], 1)), X_test]  # Adding bias column\n",
    "\n",
    "# Make predictions\n",
    "y_pred = X_test_b.dot(theta)  # Using the equation y = θ0 + θ1*X\n",
    "\n",
    "# Print Predictions\n",
    "print(\"Predicted Sales values:\\n\", y_pred[:5])  # Display first 5 predictions\n"
   ]
  },
  {
   "cell_type": "code",
   "execution_count": 11,
   "id": "3834e358-1fc2-4a83-bb6f-5818599bb5d0",
   "metadata": {},
   "outputs": [
    {
     "name": "stdout",
     "output_type": "stream",
     "text": [
      "Intercept: 7.088173725293531\n",
      "Coefficient for TV: 0.046848412092715855\n",
      "First 5 Predicted Sales values:\n",
      " [[15.38034267]\n",
      " [12.85521325]\n",
      " [ 9.10734029]\n",
      " [11.98851763]\n",
      " [12.11969318]]\n"
     ]
    }
   ],
   "source": [
    "from sklearn.linear_model import LinearRegression\n",
    "\n",
    "# Create a Linear Regression model\n",
    "model = LinearRegression()\n",
    "\n",
    "# Train the model using X_train and y_train\n",
    "model.fit(X_train, Y_train)\n",
    "\n",
    "# Print the coefficients\n",
    "print(\"Intercept:\", model.intercept_[0])  # Bias (theta_0)\n",
    "print(\"Coefficient for TV:\", model.coef_[0][0])  # Slope (theta_1)\n",
    "\n",
    "# Make predictions on the test data\n",
    "y_pred = model.predict(X_test)\n",
    "\n",
    "# Print first 5 predicted values\n",
    "print(\"First 5 Predicted Sales values:\\n\", y_pred[:5])\n"
   ]
  },
  {
   "cell_type": "code",
   "execution_count": 12,
   "id": "67685b1e-2559-4ccd-aecf-695e6a2eb9a5",
   "metadata": {},
   "outputs": [
    {
     "name": "stdout",
     "output_type": "stream",
     "text": [
      "Intercept (Theta_0): 7.088173725293531\n",
      "Coefficient for TV (Theta_1): 0.046848412092715855\n"
     ]
    }
   ],
   "source": [
    "# Print the intercept\n",
    "print(\"Intercept (Theta_0):\", model.intercept_[0])\n",
    "\n",
    "# Print the coefficient (slope)\n",
    "print(\"Coefficient for TV (Theta_1):\", model.coef_[0][0])\n"
   ]
  },
  {
   "cell_type": "code",
   "execution_count": 13,
   "id": "7ef29aa6-3c9e-4d5f-af52-67a7539841fc",
   "metadata": {},
   "outputs": [
    {
     "name": "stdout",
     "output_type": "stream",
     "text": [
      "first 5 predicted sales values [[15.38034267]\n",
      " [12.85521325]\n",
      " [ 9.10734029]\n",
      " [11.98851763]\n",
      " [12.11969318]]\n"
     ]
    }
   ],
   "source": [
    "print(\"first 5 predicted sales values\",y_pred[:5])"
   ]
  },
  {
   "cell_type": "code",
   "execution_count": 33,
   "id": "a49d06dd-d66b-4b33-ae07-7a7181b03439",
   "metadata": {},
   "outputs": [
    {
     "data": {
      "image/png": "[encoded data removed]",
      "text/plain": [
       "<Figure size 800x600 with 1 Axes>"
      ]
     },
     "metadata": {},
     "output_type": "display_data"
    }
   ],
   "source": [
    "import matplotlib.pyplot as plt\n",
    "\n",
    "# Predict values for training data\n",
    "y_train_pred = model.predict(X_train)\n",
    "\n",
    "# Plot training data points\n",
    "plt.figure(figsize=(8,6))\n",
    "plt.scatter(X_train, Y_train, color='blue', label=\"Actual Sales (Train Data)\")\n",
    "\n",
    "# Plot regression line\n",
    "plt.plot(X_train, y_train_pred, color='red', label=\"Regression Line\")\n",
    "\n",
    "# Labels and title\n",
    "plt.xlabel(\"TV Marketing Budget ($)\")\n",
    "plt.ylabel(\"Sales ($)\")\n",
    "plt.title(\"Linear Regression on Training Data\")\n",
    "plt.legend()\n",
    "\n",
    "# Show the plot\n",
    "plt.show()\n"
   ]
  },
  {
   "cell_type": "code",
   "execution_count": 34,
   "id": "cbec9a23-aafb-4d18-840b-f585748edd01",
   "metadata": {},
   "outputs": [
    {
     "data": {
      "image/png": "[encoded data removed]",
      "text/plain": [
       "<Figure size 800x600 with 1 Axes>"
      ]
     },
     "metadata": {},
     "output_type": "display_data"
    }
   ],
   "source": [
    "import matplotlib.pyplot as plt\n",
    "\n",
    "# Predict values for training data\n",
    "y_test_pred = model.predict(X_test)\n",
    "\n",
    "# Plot training data points\n",
    "plt.figure(figsize=(8,6))\n",
    "plt.scatter(X_test, Y_test, color='blue', label=\"Actual Sales (Train Data)\")\n",
    "\n",
    "# Plot regression line\n",
    "plt.plot(X_test, y_test_pred, color='red', label=\"Regression Line\")\n",
    "\n",
    "# Labels and title\n",
    "plt.xlabel(\"TV Marketing Budget ($)\")\n",
    "plt.ylabel(\"Sales ($)\")\n",
    "plt.title(\"Linear Regression on Training Data\")\n",
    "plt.legend()\n",
    "\n",
    "# Show the plot\n",
    "plt.show()\n"
   ]
  },
  {
   "cell_type": "code",
   "execution_count": 7,
   "id": "58352909-fb40-4b79-a0a2-64360d706778",
   "metadata": {},
   "outputs": [
    {
     "name": "stdout",
     "output_type": "stream",
     "text": [
      "Error: y_pred is not defined. Make sure your model has made predictions.\n",
      "Error: Model is not defined. Ensure you trained the model before making predictions.\n"
     ]
    }
   ],
   "source": [
    "# Check if y_test and y_pred exist\n",
    "if 'Y_test' not in locals():\n",
    "    print(\"Error: y_test is not defined. Make sure your data is split properly.\")\n",
    "\n",
    "if 'y_pred' not in locals():\n",
    "    print(\"Error: y_pred is not defined. Make sure your model has made predictions.\")\n",
    "\n",
    "# If y_pred is missing, generate it using the trained model\n",
    "try:\n",
    "    y_pred = model.predict(X_test)  # Generate predictions\n",
    "    print(\"y_pred successfully generated!\")\n",
    "except NameError:\n",
    "    print(\"Error: Model is not defined. Ensure you trained the model before making predictions.\")\n"
   ]
  },
  {
   "cell_type": "code",
   "execution_count": 17,
   "id": "ce091cfb-52e6-4d32-9eb8-9c22c9ad58e7",
   "metadata": {},
   "outputs": [
    {
     "name": "stdout",
     "output_type": "stream",
     "text": [
      "Mean Squared Error (MSE): 11.129155207082153\n",
      "R² Score: 0.5454116397943674\n"
     ]
    }
   ],
   "source": [
    "import numpy as np\n",
    "from sklearn.metrics import mean_squared_error, r2_score\n",
    "\n",
    "# Ensure correct shape\n",
    "y_test = np.array(Y_test).flatten()\n",
    "y_pred = np.array(y_pred).flatten()\n",
    "\n",
    "# Compute Mean Squared Error (MSE)\n",
    "mse = mean_squared_error(y_test, y_pred)\n",
    "\n",
    "# Compute R² Score\n",
    "r2 = r2_score(y_test, y_pred)\n",
    "\n",
    "print(\"Mean Squared Error (MSE):\", mse)\n",
    "print(\"R² Score:\", r2)\n"
   ]
  },
  {
   "cell_type": "code",
   "execution_count": 16,
   "id": "e36a5d2a-9e75-45ac-bdbc-98760a46258c",
   "metadata": {},
   "outputs": [
    {
     "name": "stdout",
     "output_type": "stream",
     "text": [
      "R Squared (R²): -103.57015482650284\n",
      "Adjusted R Squared (R² Adjusted): -105.37308853040807\n"
     ]
    }
   ],
   "source": [
    "import numpy as np\n",
    "\n",
    "# Sample Data (Replace with your actual values)\n",
    "y_test = np.array(Y_test)  # Convert y_test to NumPy array\n",
    "y_pred = np.array(y_pred)  # Convert y_pred to NumPy array\n",
    "\n",
    "# Step 1: Compute SS_res (Sum of Squared Residuals)\n",
    "ss_res = np.sum((y_test - y_pred) ** 2)\n",
    "\n",
    "# Step 2: Compute SS_tot (Total Sum of Squares)\n",
    "y_mean = np.mean(y_test)  # Mean of y_test\n",
    "ss_tot = np.sum((y_test - y_mean) ** 2)\n",
    "\n",
    "# Step 3: Compute R Squared (R²)\n",
    "r_squared = 1 - (ss_res / ss_tot)\n",
    "\n",
    "# Step 4: Compute Adjusted R Squared\n",
    "n = len(y_test)  # Number of samples\n",
    "p = X_test.shape[1]  # Number of features in X_test\n",
    "adjusted_r_squared = 1 - ((1 - r_squared) * (n - 1) / (n - p - 1))\n",
    "\n",
    "# Print Results\n",
    "print(\"R Squared (R²):\", r_squared)\n",
    "print(\"Adjusted R Squared (R² Adjusted):\", adjusted_r_squared)\n"
   ]
  },
  {
   "cell_type": "code",
   "execution_count": null,
   "id": "9243e17d-296b-4826-aed6-a8a495092ce8",
   "metadata": {},
   "outputs": [],
   "source": []
  }
 ],
 "metadata": {
  "kernelspec": {
   "display_name": "Python 3 (ipykernel)",
   "language": "python",
   "name": "python3"
  },
  "language_info": {
   "codemirror_mode": {
    "name": "ipython",
    "version": 3
   },
   "file_extension": ".py",
   "mimetype": "text/x-python",
   "name": "python",
   "nbconvert_exporter": "python",
   "pygments_lexer": "ipython3",
   "version": "3.11.7"
  }
 },
 "nbformat": 4,
 "nbformat_minor": 5
}
